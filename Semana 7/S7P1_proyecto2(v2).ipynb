{
 "cells": [
  {
   "cell_type": "markdown",
   "metadata": {},
   "source": [
    "![image info](https://raw.githubusercontent.com/albahnsen/MIAD_ML_and_NLP/main/images/banner_1.png)"
   ]
  },
  {
   "cell_type": "markdown",
   "metadata": {},
   "source": [
    "# Proyecto 2 - Clasificación de género de películas\n",
    "\n",
    "El propósito de este proyecto es que puedan poner en práctica, en sus respectivos grupos de trabajo, sus conocimientos sobre técnicas de preprocesamiento, modelos predictivos de NLP, y la disponibilización de modelos. Para su desarrollo tengan en cuenta las instrucciones dadas en la \"Guía del proyecto 2: Clasificación de género de películas\"\n",
    "\n",
    "**Entrega**: La entrega del proyecto deberán realizarla durante la semana 8. Sin embargo, es importante que avancen en la semana 7 en el modelado del problema y en parte del informe, tal y como se les indicó en la guía.\n",
    "\n",
    "Para hacer la entrega, deberán adjuntar el informe autocontenido en PDF a la actividad de entrega del proyecto que encontrarán en la semana 8, y subir el archivo de predicciones a la [competencia de Kaggle](https://www.kaggle.com/t/2c54d005f76747fe83f77fbf8b3ec232)."
   ]
  },
  {
   "cell_type": "markdown",
   "metadata": {},
   "source": [
    "## Datos para la predicción de género en películas"
   ]
  },
  {
   "cell_type": "markdown",
   "metadata": {},
   "source": [
    "![image info](https://raw.githubusercontent.com/albahnsen/MIAD_ML_and_NLP/main/images/moviegenre.png)"
   ]
  },
  {
   "cell_type": "markdown",
   "metadata": {},
   "source": [
    "En este proyecto se usará un conjunto de datos de géneros de películas. Cada observación contiene el título de una película, su año de lanzamiento, la sinopsis o plot de la película (resumen de la trama) y los géneros a los que pertenece (una película puede pertenercer a más de un género). Por ejemplo:\n",
    "- Título: 'How to Be a Serial Killer'\n",
    "- Plot: 'A serial killer decides to teach the secrets of his satisfying career to a video store clerk.'\n",
    "- Generos: 'Comedy', 'Crime', 'Horror'\n",
    "\n",
    "La idea es que usen estos datos para predecir la probabilidad de que una película pertenezca, dada la sinopsis, a cada uno de los géneros."
   ]
  },
  {
   "cell_type": "markdown",
   "metadata": {},
   "source": [
    "Agradecemos al profesor Fabio González, Ph.D. y a su alumno John Arevalo por proporcionar este conjunto de datos. Ver https://arxiv.org/abs/1702.01992"
   ]
  },
  {
   "cell_type": "markdown",
   "metadata": {},
   "source": [
    "## Ejemplo predicción conjunto de test para envío a Kaggle\n",
    "En esta sección encontrarán el formato en el que deben guardar los resultados de la predicción para que puedan subirlos a la competencia en Kaggle."
   ]
  },
  {
   "cell_type": "code",
   "execution_count": 1,
   "metadata": {},
   "outputs": [],
   "source": [
    "import warnings\n",
    "warnings.filterwarnings('ignore')"
   ]
  },
  {
   "cell_type": "code",
   "execution_count": 36,
   "metadata": {},
   "outputs": [
    {
     "name": "stderr",
     "output_type": "stream",
     "text": [
      "[nltk_data] Downloading package wordnet to\n",
      "[nltk_data]     C:\\Users\\Yovany\\AppData\\Roaming\\nltk_data...\n",
      "[nltk_data]   Package wordnet is already up-to-date!\n",
      "[nltk_data] Downloading package omw-1.4 to\n",
      "[nltk_data]     C:\\Users\\Yovany\\AppData\\Roaming\\nltk_data...\n",
      "[nltk_data]   Package omw-1.4 is already up-to-date!\n"
     ]
    },
    {
     "data": {
      "text/plain": [
       "True"
      ]
     },
     "execution_count": 36,
     "metadata": {},
     "output_type": "execute_result"
    }
   ],
   "source": [
    "# Importación librerías\n",
    "import seaborn as sns\n",
    "import matplotlib.pyplot as plt\n",
    "import pandas as pd\n",
    "import os\n",
    "import numpy as np\n",
    "from sklearn.feature_extraction.text import CountVectorizer\n",
    "from sklearn.preprocessing import MultiLabelBinarizer\n",
    "from sklearn.multiclass import OneVsRestClassifier\n",
    "from sklearn.ensemble import RandomForestRegressor, RandomForestClassifier\n",
    "from sklearn.metrics import r2_score, roc_auc_score\n",
    "from sklearn.model_selection import train_test_split\n",
    "from sklearn.metrics import precision_score, recall_score, f1_score, accuracy_score\n",
    "from mlxtend.plotting import plot_decision_regions\n",
    "\n",
    "from nltk.stem import WordNetLemmatizer\n",
    "wordnet_lemmatizer = WordNetLemmatizer()\n",
    "import nltk\n",
    "from imblearn.over_sampling import BorderlineSMOTE, SMOTE, ADASYN, SMOTENC, RandomOverSampler\n",
    "nltk.download('wordnet')\n",
    "nltk.download('omw-1.4')"
   ]
  },
  {
   "cell_type": "code",
   "execution_count": 3,
   "metadata": {},
   "outputs": [],
   "source": [
    "# Carga de datos de archivo .csv\n",
    "dataTraining = pd.read_csv('https://github.com/albahnsen/MIAD_ML_and_NLP/raw/main/datasets/dataTraining.zip', encoding='UTF-8', index_col=0)\n",
    "dataTesting = pd.read_csv('https://github.com/albahnsen/MIAD_ML_and_NLP/raw/main/datasets/dataTesting.zip', encoding='UTF-8', index_col=0)"
   ]
  },
  {
   "cell_type": "code",
   "execution_count": 20,
   "metadata": {},
   "outputs": [
    {
     "data": {
      "text/html": [
       "<div>\n",
       "<style scoped>\n",
       "    .dataframe tbody tr th:only-of-type {\n",
       "        vertical-align: middle;\n",
       "    }\n",
       "\n",
       "    .dataframe tbody tr th {\n",
       "        vertical-align: top;\n",
       "    }\n",
       "\n",
       "    .dataframe thead th {\n",
       "        text-align: right;\n",
       "    }\n",
       "</style>\n",
       "<table border=\"1\" class=\"dataframe\">\n",
       "  <thead>\n",
       "    <tr style=\"text-align: right;\">\n",
       "      <th></th>\n",
       "      <th>year</th>\n",
       "      <th>title</th>\n",
       "      <th>plot</th>\n",
       "      <th>genres</th>\n",
       "      <th>rating</th>\n",
       "    </tr>\n",
       "  </thead>\n",
       "  <tbody>\n",
       "    <tr>\n",
       "      <th>3107</th>\n",
       "      <td>2003</td>\n",
       "      <td>Most</td>\n",
       "      <td>most is the story of a single father who takes...</td>\n",
       "      <td>[Short, Drama]</td>\n",
       "      <td>8.0</td>\n",
       "    </tr>\n",
       "    <tr>\n",
       "      <th>900</th>\n",
       "      <td>2008</td>\n",
       "      <td>How to Be a Serial Killer</td>\n",
       "      <td>a serial killer decides to teach the secrets o...</td>\n",
       "      <td>[Comedy, Crime, Horror]</td>\n",
       "      <td>5.6</td>\n",
       "    </tr>\n",
       "    <tr>\n",
       "      <th>6724</th>\n",
       "      <td>1941</td>\n",
       "      <td>A Woman's Face</td>\n",
       "      <td>in sweden ,  a female blackmailer with a disfi...</td>\n",
       "      <td>[Drama, Film-Noir, Thriller]</td>\n",
       "      <td>7.2</td>\n",
       "    </tr>\n",
       "    <tr>\n",
       "      <th>4704</th>\n",
       "      <td>1954</td>\n",
       "      <td>Executive Suite</td>\n",
       "      <td>in a friday afternoon in new york ,  the presi...</td>\n",
       "      <td>[Drama]</td>\n",
       "      <td>7.4</td>\n",
       "    </tr>\n",
       "    <tr>\n",
       "      <th>2582</th>\n",
       "      <td>1990</td>\n",
       "      <td>Narrow Margin</td>\n",
       "      <td>in los angeles ,  the editor of a publishing h...</td>\n",
       "      <td>[Action, Crime, Thriller]</td>\n",
       "      <td>6.6</td>\n",
       "    </tr>\n",
       "  </tbody>\n",
       "</table>\n",
       "</div>"
      ],
      "text/plain": [
       "      year                      title  \\\n",
       "3107  2003                       Most   \n",
       "900   2008  How to Be a Serial Killer   \n",
       "6724  1941             A Woman's Face   \n",
       "4704  1954            Executive Suite   \n",
       "2582  1990              Narrow Margin   \n",
       "\n",
       "                                                   plot  \\\n",
       "3107  most is the story of a single father who takes...   \n",
       "900   a serial killer decides to teach the secrets o...   \n",
       "6724  in sweden ,  a female blackmailer with a disfi...   \n",
       "4704  in a friday afternoon in new york ,  the presi...   \n",
       "2582  in los angeles ,  the editor of a publishing h...   \n",
       "\n",
       "                            genres  rating  \n",
       "3107                [Short, Drama]     8.0  \n",
       "900        [Comedy, Crime, Horror]     5.6  \n",
       "6724  [Drama, Film-Noir, Thriller]     7.2  \n",
       "4704                       [Drama]     7.4  \n",
       "2582     [Action, Crime, Thriller]     6.6  "
      ]
     },
     "execution_count": 20,
     "metadata": {},
     "output_type": "execute_result"
    }
   ],
   "source": [
    "dataTraining.head()"
   ]
  },
  {
   "cell_type": "code",
   "execution_count": 4,
   "metadata": {},
   "outputs": [],
   "source": [
    "def split_into_lemmas(text):\n",
    "    text = text.lower()\n",
    "    words = text.split()\n",
    "    return [wordnet_lemmatizer.lemmatize(word) for word in words]"
   ]
  },
  {
   "cell_type": "code",
   "execution_count": 6,
   "metadata": {},
   "outputs": [
    {
     "data": {
      "text/plain": [
       "(7895, 1000)"
      ]
     },
     "execution_count": 6,
     "metadata": {},
     "output_type": "execute_result"
    }
   ],
   "source": [
    "# Definición de variables predictoras (X)\n",
    "vec = CountVectorizer(tokenizer=split_into_lemmas, max_features=1000)\n",
    "X_dtm = vec.fit_transform(dataTraining['plot'])\n",
    "X_dtm.shape"
   ]
  },
  {
   "cell_type": "code",
   "execution_count": 7,
   "metadata": {},
   "outputs": [],
   "source": [
    "# Definición de variable de interés (y)\n",
    "dataTraining['genres'] = dataTraining['genres'].map(lambda x: eval(x))\n",
    "le = MultiLabelBinarizer()\n",
    "y_genres = le.fit_transform(dataTraining['genres'])"
   ]
  },
  {
   "cell_type": "code",
   "execution_count": 8,
   "metadata": {},
   "outputs": [
    {
     "name": "stdout",
     "output_type": "stream",
     "text": [
      "(5289, 1000) (2606, 1000) (5289, 24) (2606, 24)\n"
     ]
    }
   ],
   "source": [
    "# Separación de variables predictoras (X) y variable de interés (y) en set de entrenamiento y test usandola función train_test_split\n",
    "X_train, X_test, y_train_genres, y_test_genres = train_test_split(X_dtm, y_genres, test_size=0.33, random_state=42)"
   ]
  },
  {
   "cell_type": "code",
   "execution_count": 64,
   "metadata": {},
   "outputs": [
    {
     "name": "stdout",
     "output_type": "stream",
     "text": [
      "0.8238484923481316\n"
     ]
    }
   ],
   "source": [
    "#radom search\n",
    "from sklearn.model_selection import RandomizedSearchCV\n",
    "from scipy.stats import randint as sp_randint\n",
    "\n",
    "\n",
    "# Definición y entrenamiento con RandomForestClassifier\n",
    "clf = OneVsRestClassifier(RandomForestClassifier(n_jobs=-1, n_estimators=1000, max_depth=15, random_state=42))\n",
    "\n",
    "# Rango de búsqueda de parámetro dado: lista o distribución\n",
    "param_dist = {\"estimator__max_depth\": [3, None],                     # Lista dada\n",
    "              \"estimator__max_features\": sp_randint(1, 11),          #Distribución\n",
    "              \"estimator__min_samples_split\": sp_randint(2, 11),     #Distribución\n",
    "              \"estimator__bootstrap\": [True, False],                 # Lista dada\n",
    "              \"estimator__criterion\": [\"gini\", \"entropy\"]}           # Lista dada\n",
    "\n",
    "# Use RandomSearch + CV para seleccionar hiperparámetros\n",
    "n_iter_search = 20\n",
    "\n",
    "clf_rd_search2 = RandomizedSearchCV(clf, param_distributions=param_dist, n_iter=n_iter_search, cv=5)\n",
    "\n",
    "# Ajustamos el modelo\n",
    "clf_rd_search2.fit(X_train, y_train_genres)\n",
    "\n",
    "# Predicción del modelo de clasificación\n",
    "y_pred_genres = clf_rd_search2.predict_proba(X_test)\n",
    "\n",
    "# transformación variables predictoras X del conjunto de test\n",
    "X_test_dtm = vec.transform(dataTesting['plot'])\n",
    "\n",
    "# Predicción del conjunto de test\n",
    "y_pred_test_genres = clf_rd_search.predict_proba(X_test_dtm)"
   ]
  },
  {
   "cell_type": "code",
   "execution_count": 65,
   "metadata": {},
   "outputs": [
    {
     "name": "stdout",
     "output_type": "stream",
     "text": [
      "0.8238484923481316\n",
      "OneVsRestClassifier(estimator=RandomForestClassifier(bootstrap=False,\n",
      "                                                     criterion='entropy',\n",
      "                                                     max_features=8,\n",
      "                                                     min_samples_split=5,\n",
      "                                                     n_estimators=1000,\n",
      "                                                     n_jobs=-1,\n",
      "                                                     random_state=42))\n",
      "0.07392681430663879\n",
      "{'estimator__bootstrap': False, 'estimator__criterion': 'entropy', 'estimator__max_depth': None, 'estimator__max_features': 8, 'estimator__min_samples_split': 5}\n"
     ]
    }
   ],
   "source": [
    "# Impresión del desempeño del modelo\n",
    "print(roc_auc_score(y_test_genres, y_pred_genres, average='macro'))\n",
    "\n",
    "print(clf_rd_search2.best_estimator_ )\n",
    "print(clf_rd_search2.best_score_)\n",
    "print( clf_rd_search2.best_params_)"
   ]
  },
  {
   "cell_type": "code",
   "execution_count": null,
   "metadata": {},
   "outputs": [],
   "source": [
    "# Guardar predicciones en formato exigido en la competencia de kaggle\n",
    "cols = ['p_Action', 'p_Adventure', 'p_Animation', 'p_Biography', 'p_Comedy', 'p_Crime', 'p_Documentary', 'p_Drama', 'p_Family',\n",
    "        'p_Fantasy', 'p_Film-Noir', 'p_History', 'p_Horror', 'p_Music', 'p_Musical', 'p_Mystery', 'p_News', 'p_Romance',\n",
    "        'p_Sci-Fi', 'p_Short', 'p_Sport', 'p_Thriller', 'p_War', 'p_Western']\n",
    "\n",
    "res = pd.DataFrame(y_pred_test_genres, index=dataTesting.index, columns=cols)\n",
    "res.to_csv('pred_genres_text_RF.csv', index_label='ID')\n",
    "res.head()"
   ]
  },
  {
   "cell_type": "markdown",
   "metadata": {},
   "source": [
    "### Guardar el Modelo Calibrado"
   ]
  },
  {
   "cell_type": "code",
   "execution_count": null,
   "metadata": {},
   "outputs": [],
   "source": [
    "# Exportar modelo a archivo binario .pkl\n",
    "joblib.dump(clf_rd_search, 'modelo_predice_generos.pkl', compress=3)"
   ]
  },
  {
   "cell_type": "markdown",
   "metadata": {},
   "source": [
    "## Esta sección en independiente, por lo que se puede ejecutar sin necesidad de correr las celdas previas.\n",
    "\n",
    "-  Solo se requiere el pkl del modelo generado\n",
    "- la libreria predice_generos.py\n",
    "- y ubicarlos en la misma ubicación de este notebook"
   ]
  },
  {
   "cell_type": "markdown",
   "metadata": {},
   "source": [
    "### Ejemplo de ejecución"
   ]
  },
  {
   "cell_type": "code",
   "execution_count": null,
   "metadata": {},
   "outputs": [],
   "source": [
    "\n",
    "# Importar modelo y predicción\n",
    "from sklearn.feature_extraction.text import CountVectorizer\n",
    "from predice_generos import predice_GENEROS\n",
    "\n",
    "corpus=['most is the story of a single father who takes his eight year - old son to work with him at the railroad drawbridge where he is the bridge tender .  a day before ,  the boy meets a woman boarding a train ,  a drug abuser .  at the bridge ,  the father goes into the engine room ,  and tells his son to stay at the edge of the nearby lake .  a ship comes ,  and the bridge is lifted .  though it is supposed to arrive an hour later ,  the train happens to arrive .  the son sees this ,  and tries to warn his father ,  who is not able to see this .  just as the oncoming train approaches ,  his son falls into the drawbridge gear works while attempting to lower the bridge ,  leaving the father with a horrific choice .  the father then lowers the bridge ,  the gears crushing the boy .  the people in the train are completely oblivious to the fact a boy died trying to save them ,  other than the drug addict woman ,  who happened to look out her train window .  the movie ends ,  with the man wandering a new city ,  and meets the woman ,  no longer a drug addict ,  holding a small baby .  other relevant narratives run in parallel ,  namely one of the female drug - addict ,  and they all meet at the climax of this tumultuous film .']\n",
    "\n",
    "# Predicción de genero\n",
    "y_pred_test_genres=predice_GENEROS(corpus) \n",
    "\n",
    "y_pred_test_genres"
   ]
  },
  {
   "cell_type": "markdown",
   "metadata": {},
   "source": [
    "## Disponibilizar modelo con Flask"
   ]
  },
  {
   "cell_type": "code",
   "execution_count": null,
   "metadata": {},
   "outputs": [],
   "source": [
    "import joblib\n",
    "import werkzeug\n",
    "from werkzeug.utils import cached_property\n",
    "from flask import Flask\n",
    "\n",
    "try:\n",
    "    from flask_restplus import Api, Resource, fields, marshal\n",
    "except ImportError:\n",
    "    import werkzeug\n",
    "    werkzeug.cached_property = werkzeug.utils.cached_property\n",
    "    from flask_restplus import Resource, Api, fields, marshal\n",
    "\n",
    "from predice_generos import predice_GENEROS\n",
    "\n",
    "# Definición aplicación Flask\n",
    "app = Flask(__name__)\n",
    "\n",
    "# Definición API Flask\n",
    "api = Api(\n",
    "    app, \n",
    "    version='1.0', \n",
    "    title='API de Predicción de Generos de Peliculas',\n",
    "    description='API de Predicción de Generos de Peliculas')\n",
    "\n",
    "ns = api.namespace('predict', \n",
    "     description='Predición de Generos de Peliculas')\n",
    "\n",
    "# Definición argumentos o parámetros de la API\n",
    "parser = api.parser()\n",
    "\n",
    "\n",
    "\n",
    "parser.add_argument(\n",
    "    'Plot', \n",
    "    type=str, \n",
    "    required=True, \n",
    "    help='', \n",
    "    location='args')\n",
    "\n",
    "\n",
    "resource_fields = api.model('Resource', {\n",
    "    'p_Action': fields.String,\n",
    "    'p_Adventure' : fields.String,\n",
    "    'p_Animation' : fields.String,\n",
    "    'p_Biography' : fields.String,\n",
    "    'p_Comedy' : fields.String,\n",
    "    'p_Crime' : fields.String,\n",
    "    'p_Documentary' : fields.String,\n",
    "    'p_Drama' : fields.String,\n",
    "    'p_Family' : fields.String,\n",
    "    'p_Fantasy' : fields.String,       \n",
    "    'p_Film-Noir' : fields.String,\n",
    "    'p_History' : fields.String,\n",
    "    'p_Horror' : fields.String,\n",
    "    'p_Music' : fields.String,\n",
    "    'p_Mystery' : fields.String,\n",
    "    'p_News' : fields.String,\n",
    "    'p_Romance' : fields.String,\n",
    "    'p_Sci-Fi' : fields.String,\n",
    "    'p_Short' : fields.String,\n",
    "    'p_Sport' : fields.String,\n",
    "    'p_Thriller' : fields.String,\n",
    "    'p_War' : fields.String,\n",
    "    'p_Western' : fields.String\n",
    "    })\n",
    "\n",
    "\n",
    "# Definición de la clase para disponibilización\n",
    "@ns.route('/')\n",
    "class GenerosApi(Resource):\n",
    "\n",
    "    @api.doc(parser=parser)\n",
    "    @api.marshal_with(resource_fields)\n",
    "    def get(self):\n",
    "        args = parser.parse_args()\n",
    "        print(args)\n",
    "        generos=predice_GENEROS([args['Plot']])\n",
    "        \n",
    "        return {\n",
    "        'p_Action': generos['p_Action'],\n",
    "        'p_Adventure' : generos['p_Adventure'],\n",
    "        'p_Animation' : generos['p_Animation'],\n",
    "        'p_Biography' : generos['p_Biography'],\n",
    "        'p_Comedy' : generos['p_Comedy'],\n",
    "        'p_Crime' : generos['p_Crime'],\n",
    "        'p_Documentary' : generos['p_Documentary'],\n",
    "        'p_Drama' : generos['p_Drama'],\n",
    "        'p_Family' : generos['p_Family'],\n",
    "        'p_Fantasy' : generos['p_Fantasy'],       ''\n",
    "        'p_Film-Noir' : generos['p_Film-Noir'],\n",
    "        'p_History' : generos['p_History'],\n",
    "        'p_Horror' : generos['p_Horror'],\n",
    "        'p_Music' : generos['p_Music'],\n",
    "        'p_Mystery' : generos['p_Mystery'],\n",
    "        'p_News' : generos['p_News'],\n",
    "        'p_Romance' : generos['p_Romance'],\n",
    "        'p_Sci-Fi' : generos['p_Sci-Fi'],\n",
    "        'p_Short' : generos['p_Short'],\n",
    "        'p_Sport' : generos['p_Sport'],\n",
    "        'p_Thriller' : generos['p_Thriller'],\n",
    "        'p_War' : generos['p_War'],\n",
    "        'p_Western' : generos['p_Western']\n",
    "        }, 200\n",
    "\n",
    "# Ejecución de la aplicación que disponibiliza el modelo de manera local en el puerto 5002\n",
    "app.run(debug=True, use_reloader=False, host='0.0.0.0', port=5002)"
   ]
  },
  {
   "cell_type": "code",
   "execution_count": null,
   "metadata": {},
   "outputs": [],
   "source": []
  }
 ],
 "metadata": {
  "interpreter": {
   "hash": "4cf03a2963743c57c72d8ba6632c2081b501cae1666301abc782d21392c9048f"
  },
  "kernelspec": {
   "display_name": "Python 3 (ipykernel)",
   "language": "python",
   "name": "python3"
  },
  "language_info": {
   "codemirror_mode": {
    "name": "ipython",
    "version": 3
   },
   "file_extension": ".py",
   "mimetype": "text/x-python",
   "name": "python",
   "nbconvert_exporter": "python",
   "pygments_lexer": "ipython3",
   "version": "3.9.12"
  }
 },
 "nbformat": 4,
 "nbformat_minor": 1
}
