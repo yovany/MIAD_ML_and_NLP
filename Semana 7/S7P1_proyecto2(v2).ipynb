{
 "cells": [
  {
   "cell_type": "markdown",
   "metadata": {},
   "source": [
    "![image info](https://raw.githubusercontent.com/albahnsen/MIAD_ML_and_NLP/main/images/banner_1.png)"
   ]
  },
  {
   "cell_type": "markdown",
   "metadata": {},
   "source": [
    "# Proyecto 2 - Clasificación de género de películas\n",
    "\n",
    "El propósito de este proyecto es que puedan poner en práctica, en sus respectivos grupos de trabajo, sus conocimientos sobre técnicas de preprocesamiento, modelos predictivos de NLP, y la disponibilización de modelos. Para su desarrollo tengan en cuenta las instrucciones dadas en la \"Guía del proyecto 2: Clasificación de género de películas\"\n",
    "\n",
    "**Entrega**: La entrega del proyecto deberán realizarla durante la semana 8. Sin embargo, es importante que avancen en la semana 7 en el modelado del problema y en parte del informe, tal y como se les indicó en la guía.\n",
    "\n",
    "Para hacer la entrega, deberán adjuntar el informe autocontenido en PDF a la actividad de entrega del proyecto que encontrarán en la semana 8, y subir el archivo de predicciones a la [competencia de Kaggle](https://www.kaggle.com/t/2c54d005f76747fe83f77fbf8b3ec232)."
   ]
  },
  {
   "cell_type": "markdown",
   "metadata": {},
   "source": [
    "## Datos para la predicción de género en películas"
   ]
  },
  {
   "cell_type": "markdown",
   "metadata": {},
   "source": [
    "![image info](https://raw.githubusercontent.com/albahnsen/MIAD_ML_and_NLP/main/images/moviegenre.png)"
   ]
  },
  {
   "cell_type": "markdown",
   "metadata": {},
   "source": [
    "En este proyecto se usará un conjunto de datos de géneros de películas. Cada observación contiene el título de una película, su año de lanzamiento, la sinopsis o plot de la película (resumen de la trama) y los géneros a los que pertenece (una película puede pertenercer a más de un género). Por ejemplo:\n",
    "- Título: 'How to Be a Serial Killer'\n",
    "- Plot: 'A serial killer decides to teach the secrets of his satisfying career to a video store clerk.'\n",
    "- Generos: 'Comedy', 'Crime', 'Horror'\n",
    "\n",
    "La idea es que usen estos datos para predecir la probabilidad de que una película pertenezca, dada la sinopsis, a cada uno de los géneros."
   ]
  },
  {
   "cell_type": "markdown",
   "metadata": {},
   "source": [
    "Agradecemos al profesor Fabio González, Ph.D. y a su alumno John Arevalo por proporcionar este conjunto de datos. Ver https://arxiv.org/abs/1702.01992"
   ]
  },
  {
   "cell_type": "markdown",
   "metadata": {},
   "source": [
    "## Ejemplo predicción conjunto de test para envío a Kaggle\n",
    "En esta sección encontrarán el formato en el que deben guardar los resultados de la predicción para que puedan subirlos a la competencia en Kaggle."
   ]
  },
  {
   "cell_type": "code",
   "execution_count": 2,
   "metadata": {},
   "outputs": [],
   "source": [
    "import warnings\n",
    "warnings.filterwarnings('ignore')"
   ]
  },
  {
   "cell_type": "code",
   "execution_count": null,
   "metadata": {},
   "outputs": [],
   "source": [
    "# Importación librerías\n",
    "import pandas as pd\n",
    "import os\n",
    "import numpy as np\n",
    "from sklearn.feature_extraction.text import CountVectorizer\n",
    "from sklearn.preprocessing import MultiLabelBinarizer\n",
    "from sklearn.multiclass import OneVsRestClassifier\n",
    "from sklearn.ensemble import RandomForestRegressor, RandomForestClassifier\n",
    "from sklearn.metrics import r2_score, roc_auc_score\n",
    "from sklearn.model_selection import train_test_split"
   ]
  },
  {
   "cell_type": "code",
   "execution_count": null,
   "metadata": {},
   "outputs": [],
   "source": [
    "# Carga de datos de archivo .csv\n",
    "dataTraining = pd.read_csv('https://github.com/albahnsen/MIAD_ML_and_NLP/raw/main/datasets/dataTraining.zip', encoding='UTF-8', index_col=0)\n",
    "dataTesting = pd.read_csv('https://github.com/albahnsen/MIAD_ML_and_NLP/raw/main/datasets/dataTesting.zip', encoding='UTF-8', index_col=0)"
   ]
  },
  {
   "cell_type": "code",
   "execution_count": null,
   "metadata": {},
   "outputs": [],
   "source": [
    "# Definición de variables predictoras (X)\n",
    "vec = CountVectorizer(tokenizer=lambda x: x.split(), max_features=1000)\n",
    "X_dtm = vec.fit_transform(dataTraining['plot'])\n",
    "X_dtm.shape"
   ]
  },
  {
   "cell_type": "code",
   "execution_count": null,
   "metadata": {},
   "outputs": [],
   "source": [
    "# Definición de variable de interés (y)\n",
    "dataTraining['genres'] = dataTraining['genres'].map(lambda x: eval(x))\n",
    "le = MultiLabelBinarizer()\n",
    "y_genres = le.fit_transform(dataTraining['genres'])"
   ]
  },
  {
   "cell_type": "code",
   "execution_count": null,
   "metadata": {},
   "outputs": [],
   "source": [
    "# Separación de variables predictoras (X) y variable de interés (y) en set de entrenamiento y test usandola función train_test_split\n",
    "X_train, X_test, y_train_genres, y_test_genres = train_test_split(X_dtm, y_genres, test_size=0.33, random_state=42)\n",
    "\n",
    "print(X_train.shape, X_test.shape, y_train_genres.shape, y_test_genres.shape)"
   ]
  },
  {
   "cell_type": "code",
   "execution_count": null,
   "metadata": {},
   "outputs": [],
   "source": [
    "# Definición y entrenamiento con RandomForestClassifier\n",
    "clf = OneVsRestClassifier(RandomForestClassifier(n_jobs=-1, n_estimators=1000, max_depth=15, random_state=42))\n",
    "\n",
    "# clf.fit(X_train, y_train_genres)\n",
    "#radom search\n",
    "from sklearn.model_selection import RandomizedSearchCV\n",
    "clf_rd_search = RandomizedSearchCV(estimator=clf,\n",
    "                                   param_distributions={\"estimator__n_estimators\": [100, 200, 300, 400, 500, 600, 700, 800, 900, 1000],\n",
    "                                                        \"estimator__max_depth\": [3, 4, 5, 6, 7, 8, 9, 10, 11, 12, 13, 14, 15, 16, 17, 18, 19, 20]},\n",
    "                                                        n_iter=10, cv=5, verbose=2, random_state=42, n_jobs=-1)\n",
    "clf_rd_search.fit(X_train, y_train_genres)\n",
    "\n",
    "# Predicción del modelo de clasificación\n",
    "y_pred_genres = clf_rd_search.predict_proba(X_test)\n",
    "\n",
    "# Impresión del desempeño del modelo\n",
    "roc_auc_score(y_test_genres, y_pred_genres, average='macro')\n",
    "\n",
    "# transformación variables predictoras X del conjunto de test\n",
    "X_test_dtm = vec.transform(dataTesting['plot'])\n",
    "\n",
    "\n",
    "\n",
    "cols = ['p_Action', 'p_Adventure', 'p_Animation', 'p_Biography', 'p_Comedy', 'p_Crime', 'p_Documentary', 'p_Drama', 'p_Family', 'p_Fantasy', 'p_Film-Noir', 'p_History', 'p_Horror', 'p_Music', 'p_Musical', 'p_Mystery', 'p_News', 'p_Romance', 'p_Sci-Fi', 'p_Short', 'p_Sport', 'p_Thriller', 'p_War', 'p_Western']\n",
    "\n",
    "# Predicción del conjunto de test\n",
    "y_pred_test_genres = clf_rd_search.predict_proba(X_test_dtm)\n",
    "\n",
    "# Guardar predicciones en formato exigido en la competencia de kaggle\n",
    "res = pd.DataFrame(y_pred_test_genres, index=dataTesting.index, columns=cols)\n",
    "res.to_csv('pred_genres_text_RF.csv', index_label='ID')\n",
    "res.head()"
   ]
  },
  {
   "cell_type": "markdown",
   "metadata": {},
   "source": [
    "### Guardar el Modelo Calibrado"
   ]
  },
  {
   "cell_type": "code",
   "execution_count": null,
   "metadata": {},
   "outputs": [],
   "source": [
    "# Exportar modelo a archivo binario .pkl\n",
    "joblib.dump(clf_rd_search, 'modelo_predice_generos.pkl', compress=3)"
   ]
  },
  {
   "cell_type": "markdown",
   "metadata": {},
   "source": [
    "## Esta sección en independiente, por lo que se puede ejecutar sin necesidad de correr las celdas previas.\n",
    "\n",
    "-  Solo se requiere el pkl del modelo generado\n",
    "- la libreria predice_generos.py\n",
    "- y ubicarlos en la misma ubicación de este notebook"
   ]
  },
  {
   "cell_type": "markdown",
   "metadata": {},
   "source": [
    "### Ejemplo de ejecución"
   ]
  },
  {
   "cell_type": "code",
   "execution_count": 3,
   "metadata": {},
   "outputs": [
    {
     "data": {
      "text/plain": [
       "{'p_Action': 0.28053714019478393,\n",
       " 'p_Adventure': 0.21852299228036126,\n",
       " 'p_Animation': 0.053852815026266244,\n",
       " 'p_Biography': 0.18344176355578137,\n",
       " 'p_Comedy': 0.35201045170384676,\n",
       " 'p_Crime': 0.2204173115703066,\n",
       " 'p_Documentary': 0.10879837528332795,\n",
       " 'p_Drama': 0.5134137698843846,\n",
       " 'p_Family': 0.18099928318478425,\n",
       " 'p_Fantasy': 0.12653471006168387,\n",
       " 'p_Film-Noir': 0.024922812190619547,\n",
       " 'p_History': 0.059078077194205506,\n",
       " 'p_Horror': 0.1317816951140694,\n",
       " 'p_Music': 0.05353635449667692,\n",
       " 'p_Musical': 0.0520502273395565,\n",
       " 'p_Mystery': 0.11704580902471177,\n",
       " 'p_News': 0.01,\n",
       " 'p_Romance': 0.3355214828919176,\n",
       " 'p_Sci-Fi': 0.13866467272115865,\n",
       " 'p_Short': 0.06152211175885191,\n",
       " 'p_Sport': 0.046031819340092206,\n",
       " 'p_Thriller': 0.2850423494619504,\n",
       " 'p_War': 0.033223724577030295,\n",
       " 'p_Western': 0.06100495931627716}"
      ]
     },
     "execution_count": 3,
     "metadata": {},
     "output_type": "execute_result"
    }
   ],
   "source": [
    "\n",
    "# Importar modelo y predicción\n",
    "from sklearn.feature_extraction.text import CountVectorizer\n",
    "from predice_generos import predice_GENEROS\n",
    "\n",
    "corpus=['most is the story of a single father who takes his eight year - old son to work with him at the railroad drawbridge where he is the bridge tender .  a day before ,  the boy meets a woman boarding a train ,  a drug abuser .  at the bridge ,  the father goes into the engine room ,  and tells his son to stay at the edge of the nearby lake .  a ship comes ,  and the bridge is lifted .  though it is supposed to arrive an hour later ,  the train happens to arrive .  the son sees this ,  and tries to warn his father ,  who is not able to see this .  just as the oncoming train approaches ,  his son falls into the drawbridge gear works while attempting to lower the bridge ,  leaving the father with a horrific choice .  the father then lowers the bridge ,  the gears crushing the boy .  the people in the train are completely oblivious to the fact a boy died trying to save them ,  other than the drug addict woman ,  who happened to look out her train window .  the movie ends ,  with the man wandering a new city ,  and meets the woman ,  no longer a drug addict ,  holding a small baby .  other relevant narratives run in parallel ,  namely one of the female drug - addict ,  and they all meet at the climax of this tumultuous film .']\n",
    "\n",
    "# Predicción de genero\n",
    "y_pred_test_genres=predice_GENEROS(corpus) \n",
    "\n",
    "y_pred_test_genres"
   ]
  },
  {
   "cell_type": "markdown",
   "metadata": {},
   "source": [
    "## Disponibilizar modelo con Flask"
   ]
  },
  {
   "cell_type": "code",
   "execution_count": null,
   "metadata": {},
   "outputs": [
    {
     "name": "stdout",
     "output_type": "stream",
     "text": [
      " * Serving Flask app \"__main__\" (lazy loading)\n",
      " * Environment: production\n",
      "\u001b[31m   WARNING: This is a development server. Do not use it in a production deployment.\u001b[0m\n",
      "\u001b[2m   Use a production WSGI server instead.\u001b[0m\n",
      " * Debug mode: on\n"
     ]
    },
    {
     "name": "stderr",
     "output_type": "stream",
     "text": [
      " * Running on all addresses.\n",
      "   WARNING: This is a development server. Do not use it in a production deployment.\n",
      " * Running on http://192.168.50.50:5002/ (Press CTRL+C to quit)\n",
      "192.168.50.50 - - [26/May/2022 09:59:23] \"GET / HTTP/1.1\" 200 -\n",
      "192.168.50.50 - - [26/May/2022 09:59:24] \"GET /swagger.json HTTP/1.1\" 200 -\n"
     ]
    },
    {
     "name": "stdout",
     "output_type": "stream",
     "text": [
      "{'Plot': 'Jack Torrance se convierte en cuidador de invierno en el Hotel Overlook, en Colorado, con la esperanza de vencer su bloqueo con la escritura. Se instala allí junto con su esposa, Wendy, y su hijo, Danny, que está plagado de premoniciones psíquicas. Mientras la escritura de Jack no fluye y las visiones de Danny se vuelven más preocupantes, Jack descubre oscuros secretos del hotel y comienza a convertirse en un maníaco homicida, empeñado en aterrorizar a su familia.'}\n"
     ]
    },
    {
     "name": "stderr",
     "output_type": "stream",
     "text": [
      "192.168.50.50 - - [26/May/2022 09:59:39] \"GET /predict/?Plot=Jack%20Torrance%20se%20convierte%20en%20cuidador%20de%20invierno%20en%20el%20Hotel%20Overlook%2C%20en%20Colorado%2C%20con%20la%20esperanza%20de%20vencer%20su%20bloqueo%20con%20la%20escritura.%20Se%20instala%20allí%20junto%20con%20su%20esposa%2C%20Wendy%2C%20y%20su%20hijo%2C%20Danny%2C%20que%20está%20plagado%20de%20premoniciones%20psíquicas.%20Mientras%20la%20escritura%20de%20Jack%20no%20fluye%20y%20las%20visiones%20de%20Danny%20se%20vuelven%20más%20preocupantes%2C%20Jack%20descubre%20oscuros%20secretos%20del%20hotel%20y%20comienza%20a%20convertirse%20en%20un%20maníaco%20homicida%2C%20empeñado%20en%20aterrorizar%20a%20su%20familia. HTTP/1.1\" 200 -\n"
     ]
    }
   ],
   "source": [
    "import joblib\n",
    "import werkzeug\n",
    "from werkzeug.utils import cached_property\n",
    "from flask import Flask\n",
    "\n",
    "try:\n",
    "    from flask_restplus import Api, Resource, fields, marshal\n",
    "except ImportError:\n",
    "    import werkzeug\n",
    "    werkzeug.cached_property = werkzeug.utils.cached_property\n",
    "    from flask_restplus import Resource, Api, fields, marshal\n",
    "\n",
    "from predice_generos import predice_GENEROS\n",
    "\n",
    "# Definición aplicación Flask\n",
    "app = Flask(__name__)\n",
    "\n",
    "# Definición API Flask\n",
    "api = Api(\n",
    "    app, \n",
    "    version='1.0', \n",
    "    title='API de Predicción de Generos de Peliculas',\n",
    "    description='API de Predicción de Generos de Peliculas')\n",
    "\n",
    "ns = api.namespace('predict', \n",
    "     description='Predición de Generos de Peliculas')\n",
    "\n",
    "# Definición argumentos o parámetros de la API\n",
    "parser = api.parser()\n",
    "\n",
    "\n",
    "\n",
    "parser.add_argument(\n",
    "    'Plot', \n",
    "    type=str, \n",
    "    required=True, \n",
    "    help='', \n",
    "    location='args')\n",
    "\n",
    "\n",
    "resource_fields = api.model('Resource', {\n",
    "    'p_Action': fields.String,\n",
    "    'p_Adventure' : fields.String,\n",
    "    'p_Animation' : fields.String,\n",
    "    'p_Biography' : fields.String,\n",
    "    'p_Comedy' : fields.String,\n",
    "    'p_Crime' : fields.String,\n",
    "    'p_Documentary' : fields.String,\n",
    "    'p_Drama' : fields.String,\n",
    "    'p_Family' : fields.String,\n",
    "    'p_Fantasy' : fields.String,       \n",
    "    'p_Film-Noir' : fields.String,\n",
    "    'p_History' : fields.String,\n",
    "    'p_Horror' : fields.String,\n",
    "    'p_Music' : fields.String,\n",
    "    'p_Mystery' : fields.String,\n",
    "    'p_News' : fields.String,\n",
    "    'p_Romance' : fields.String,\n",
    "    'p_Sci-Fi' : fields.String,\n",
    "    'p_Short' : fields.String,\n",
    "    'p_Sport' : fields.String,\n",
    "    'p_Thriller' : fields.String,\n",
    "    'p_War' : fields.String,\n",
    "    'p_Western' : fields.String\n",
    "    })\n",
    "\n",
    "\n",
    "# Definición de la clase para disponibilización\n",
    "@ns.route('/')\n",
    "class GenerosApi(Resource):\n",
    "\n",
    "    @api.doc(parser=parser)\n",
    "    @api.marshal_with(resource_fields)\n",
    "    def get(self):\n",
    "        args = parser.parse_args()\n",
    "        print(args)\n",
    "        generos=predice_GENEROS([args['Plot']])\n",
    "        \n",
    "        return {\n",
    "        'p_Action': generos['p_Action'],\n",
    "        'p_Adventure' : generos['p_Adventure'],\n",
    "        'p_Animation' : generos['p_Animation'],\n",
    "        'p_Biography' : generos['p_Biography'],\n",
    "        'p_Comedy' : generos['p_Comedy'],\n",
    "        'p_Crime' : generos['p_Crime'],\n",
    "        'p_Documentary' : generos['p_Documentary'],\n",
    "        'p_Drama' : generos['p_Drama'],\n",
    "        'p_Family' : generos['p_Family'],\n",
    "        'p_Fantasy' : generos['p_Fantasy'],       ''\n",
    "        'p_Film-Noir' : generos['p_Film-Noir'],\n",
    "        'p_History' : generos['p_History'],\n",
    "        'p_Horror' : generos['p_Horror'],\n",
    "        'p_Music' : generos['p_Music'],\n",
    "        'p_Mystery' : generos['p_Mystery'],\n",
    "        'p_News' : generos['p_News'],\n",
    "        'p_Romance' : generos['p_Romance'],\n",
    "        'p_Sci-Fi' : generos['p_Sci-Fi'],\n",
    "        'p_Short' : generos['p_Short'],\n",
    "        'p_Sport' : generos['p_Sport'],\n",
    "        'p_Thriller' : generos['p_Thriller'],\n",
    "        'p_War' : generos['p_War'],\n",
    "        'p_Western' : generos['p_Western']\n",
    "        }, 200\n",
    "\n",
    "# Ejecución de la aplicación que disponibiliza el modelo de manera local en el puerto 5002\n",
    "app.run(debug=True, use_reloader=False, host='0.0.0.0', port=5002)"
   ]
  },
  {
   "cell_type": "code",
   "execution_count": null,
   "metadata": {},
   "outputs": [],
   "source": []
  }
 ],
 "metadata": {
  "interpreter": {
   "hash": "4cf03a2963743c57c72d8ba6632c2081b501cae1666301abc782d21392c9048f"
  },
  "kernelspec": {
   "display_name": "Python 3 (ipykernel)",
   "language": "python",
   "name": "python3"
  },
  "language_info": {
   "codemirror_mode": {
    "name": "ipython",
    "version": 3
   },
   "file_extension": ".py",
   "mimetype": "text/x-python",
   "name": "python",
   "nbconvert_exporter": "python",
   "pygments_lexer": "ipython3",
   "version": "3.7.12"
  }
 },
 "nbformat": 4,
 "nbformat_minor": 1
}
