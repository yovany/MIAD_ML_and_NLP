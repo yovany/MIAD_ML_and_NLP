{
 "cells": [
  {
   "cell_type": "markdown",
   "metadata": {},
   "source": [
    "![image info](https://raw.githubusercontent.com/albahnsen/MIAD_ML_and_NLP/main/images/banner_1.png)"
   ]
  },
  {
   "cell_type": "markdown",
   "metadata": {},
   "source": [
    "# Proyecto 2 - Clasificación de género de películas\n",
    "\n",
    "El propósito de este proyecto es que puedan poner en práctica, en sus respectivos grupos de trabajo, sus conocimientos sobre técnicas de preprocesamiento, modelos predictivos de NLP, y la disponibilización de modelos. Para su desarrollo tengan en cuenta las instrucciones dadas en la \"Guía del proyecto 2: Clasificación de género de películas\"\n",
    "\n",
    "**Entrega**: La entrega del proyecto deberán realizarla durante la semana 8. Sin embargo, es importante que avancen en la semana 7 en el modelado del problema y en parte del informe, tal y como se les indicó en la guía.\n",
    "\n",
    "Para hacer la entrega, deberán adjuntar el informe autocontenido en PDF a la actividad de entrega del proyecto que encontrarán en la semana 8, y subir el archivo de predicciones a la [competencia de Kaggle](https://www.kaggle.com/t/2c54d005f76747fe83f77fbf8b3ec232)."
   ]
  },
  {
   "cell_type": "markdown",
   "metadata": {},
   "source": [
    "## Datos para la predicción de género en películas"
   ]
  },
  {
   "cell_type": "markdown",
   "metadata": {},
   "source": [
    "![image info](https://raw.githubusercontent.com/albahnsen/MIAD_ML_and_NLP/main/images/moviegenre.png)"
   ]
  },
  {
   "cell_type": "markdown",
   "metadata": {},
   "source": [
    "En este proyecto se usará un conjunto de datos de géneros de películas. Cada observación contiene el título de una película, su año de lanzamiento, la sinopsis o plot de la película (resumen de la trama) y los géneros a los que pertenece (una película puede pertenercer a más de un género). Por ejemplo:\n",
    "- Título: 'How to Be a Serial Killer'\n",
    "- Plot: 'A serial killer decides to teach the secrets of his satisfying career to a video store clerk.'\n",
    "- Generos: 'Comedy', 'Crime', 'Horror'\n",
    "\n",
    "La idea es que usen estos datos para predecir la probabilidad de que una película pertenezca, dada la sinopsis, a cada uno de los géneros."
   ]
  },
  {
   "cell_type": "markdown",
   "metadata": {},
   "source": [
    "Agradecemos al profesor Fabio González, Ph.D. y a su alumno John Arevalo por proporcionar este conjunto de datos. Ver https://arxiv.org/abs/1702.01992"
   ]
  },
  {
   "cell_type": "markdown",
   "metadata": {},
   "source": [
    "## Ejemplo predicción conjunto de test para envío a Kaggle\n",
    "En esta sección encontrarán el formato en el que deben guardar los resultados de la predicción para que puedan subirlos a la competencia en Kaggle."
   ]
  },
  {
   "cell_type": "code",
   "execution_count": 10,
   "metadata": {},
   "outputs": [],
   "source": [
    "import warnings\n",
    "warnings.filterwarnings('ignore')"
   ]
  },
  {
   "cell_type": "code",
   "execution_count": 11,
   "metadata": {},
   "outputs": [
    {
     "name": "stderr",
     "output_type": "stream",
     "text": [
      "[nltk_data] Downloading package wordnet to /Users/yovany/nltk_data...\n",
      "[nltk_data]   Package wordnet is already up-to-date!\n",
      "[nltk_data] Downloading package omw-1.4 to /Users/yovany/nltk_data...\n",
      "[nltk_data]   Package omw-1.4 is already up-to-date!\n"
     ]
    },
    {
     "data": {
      "text/plain": [
       "True"
      ]
     },
     "execution_count": 11,
     "metadata": {},
     "output_type": "execute_result"
    }
   ],
   "source": [
    "# Importación librerías\n",
    "import seaborn as sns\n",
    "import matplotlib.pyplot as plt\n",
    "import pandas as pd\n",
    "import os\n",
    "import numpy as np\n",
    "from sklearn.feature_extraction.text import CountVectorizer\n",
    "from sklearn.preprocessing import MultiLabelBinarizer\n",
    "from sklearn.multiclass import OneVsRestClassifier\n",
    "from sklearn.ensemble import RandomForestRegressor, RandomForestClassifier\n",
    "from sklearn.metrics import r2_score, roc_auc_score\n",
    "from sklearn.model_selection import train_test_split\n",
    "from sklearn.metrics import precision_score, recall_score, f1_score, accuracy_score\n",
    "\n",
    "from nltk.stem import WordNetLemmatizer\n",
    "wordnet_lemmatizer = WordNetLemmatizer()\n",
    "import nltk\n",
    "from imblearn.over_sampling import BorderlineSMOTE, SMOTE, ADASYN, SMOTENC, RandomOverSampler\n",
    "nltk.download('wordnet')\n",
    "nltk.download('omw-1.4')"
   ]
  },
  {
   "cell_type": "code",
   "execution_count": 12,
   "metadata": {},
   "outputs": [],
   "source": [
    "# Carga de datos de archivo .csv\n",
    "dataTraining = pd.read_csv('https://github.com/albahnsen/MIAD_ML_and_NLP/raw/main/datasets/dataTraining.zip', encoding='UTF-8', index_col=0)\n",
    "dataTesting = pd.read_csv('https://github.com/albahnsen/MIAD_ML_and_NLP/raw/main/datasets/dataTesting.zip', encoding='UTF-8', index_col=0)"
   ]
  },
  {
   "cell_type": "code",
   "execution_count": 13,
   "metadata": {},
   "outputs": [
    {
     "data": {
      "text/html": [
       "<div>\n",
       "<style scoped>\n",
       "    .dataframe tbody tr th:only-of-type {\n",
       "        vertical-align: middle;\n",
       "    }\n",
       "\n",
       "    .dataframe tbody tr th {\n",
       "        vertical-align: top;\n",
       "    }\n",
       "\n",
       "    .dataframe thead th {\n",
       "        text-align: right;\n",
       "    }\n",
       "</style>\n",
       "<table border=\"1\" class=\"dataframe\">\n",
       "  <thead>\n",
       "    <tr style=\"text-align: right;\">\n",
       "      <th></th>\n",
       "      <th>year</th>\n",
       "      <th>title</th>\n",
       "      <th>plot</th>\n",
       "      <th>genres</th>\n",
       "      <th>rating</th>\n",
       "    </tr>\n",
       "  </thead>\n",
       "  <tbody>\n",
       "    <tr>\n",
       "      <th>3107</th>\n",
       "      <td>2003</td>\n",
       "      <td>Most</td>\n",
       "      <td>most is the story of a single father who takes...</td>\n",
       "      <td>['Short', 'Drama']</td>\n",
       "      <td>8.0</td>\n",
       "    </tr>\n",
       "    <tr>\n",
       "      <th>900</th>\n",
       "      <td>2008</td>\n",
       "      <td>How to Be a Serial Killer</td>\n",
       "      <td>a serial killer decides to teach the secrets o...</td>\n",
       "      <td>['Comedy', 'Crime', 'Horror']</td>\n",
       "      <td>5.6</td>\n",
       "    </tr>\n",
       "    <tr>\n",
       "      <th>6724</th>\n",
       "      <td>1941</td>\n",
       "      <td>A Woman's Face</td>\n",
       "      <td>in sweden ,  a female blackmailer with a disfi...</td>\n",
       "      <td>['Drama', 'Film-Noir', 'Thriller']</td>\n",
       "      <td>7.2</td>\n",
       "    </tr>\n",
       "    <tr>\n",
       "      <th>4704</th>\n",
       "      <td>1954</td>\n",
       "      <td>Executive Suite</td>\n",
       "      <td>in a friday afternoon in new york ,  the presi...</td>\n",
       "      <td>['Drama']</td>\n",
       "      <td>7.4</td>\n",
       "    </tr>\n",
       "    <tr>\n",
       "      <th>2582</th>\n",
       "      <td>1990</td>\n",
       "      <td>Narrow Margin</td>\n",
       "      <td>in los angeles ,  the editor of a publishing h...</td>\n",
       "      <td>['Action', 'Crime', 'Thriller']</td>\n",
       "      <td>6.6</td>\n",
       "    </tr>\n",
       "  </tbody>\n",
       "</table>\n",
       "</div>"
      ],
      "text/plain": [
       "      year                      title  \\\n",
       "3107  2003                       Most   \n",
       "900   2008  How to Be a Serial Killer   \n",
       "6724  1941             A Woman's Face   \n",
       "4704  1954            Executive Suite   \n",
       "2582  1990              Narrow Margin   \n",
       "\n",
       "                                                   plot  \\\n",
       "3107  most is the story of a single father who takes...   \n",
       "900   a serial killer decides to teach the secrets o...   \n",
       "6724  in sweden ,  a female blackmailer with a disfi...   \n",
       "4704  in a friday afternoon in new york ,  the presi...   \n",
       "2582  in los angeles ,  the editor of a publishing h...   \n",
       "\n",
       "                                  genres  rating  \n",
       "3107                  ['Short', 'Drama']     8.0  \n",
       "900        ['Comedy', 'Crime', 'Horror']     5.6  \n",
       "6724  ['Drama', 'Film-Noir', 'Thriller']     7.2  \n",
       "4704                           ['Drama']     7.4  \n",
       "2582     ['Action', 'Crime', 'Thriller']     6.6  "
      ]
     },
     "execution_count": 13,
     "metadata": {},
     "output_type": "execute_result"
    }
   ],
   "source": [
    "dataTraining.head()"
   ]
  },
  {
   "cell_type": "code",
   "execution_count": 14,
   "metadata": {},
   "outputs": [],
   "source": [
    "def split_into_lemmas(text):\n",
    "    text = text.lower()\n",
    "    words = text.split()\n",
    "    return [wordnet_lemmatizer.lemmatize(word) for word in words]"
   ]
  },
  {
   "cell_type": "code",
   "execution_count": 15,
   "metadata": {},
   "outputs": [
    {
     "data": {
      "text/plain": [
       "(7895, 1000)"
      ]
     },
     "execution_count": 15,
     "metadata": {},
     "output_type": "execute_result"
    }
   ],
   "source": [
    "# Definición de variables predictoras (X)\n",
    "vec = CountVectorizer(tokenizer=split_into_lemmas, max_features=1000)\n",
    "X_dtm = vec.fit_transform(dataTraining['plot'])\n",
    "X_dtm.shape"
   ]
  },
  {
   "cell_type": "code",
   "execution_count": 16,
   "metadata": {},
   "outputs": [],
   "source": [
    "# Definición de variable de interés (y)\n",
    "dataTraining['genres'] = dataTraining['genres'].map(lambda x: eval(x))\n",
    "le = MultiLabelBinarizer()\n",
    "y_genres = le.fit_transform(dataTraining['genres'])"
   ]
  },
  {
   "cell_type": "code",
   "execution_count": 17,
   "metadata": {},
   "outputs": [],
   "source": [
    "# Separación de variables predictoras (X) y variable de interés (y) en set de entrenamiento y test usandola función train_test_split\n",
    "X_train, X_test, y_train_genres, y_test_genres = train_test_split(X_dtm, y_genres, test_size=0.33, random_state=42)"
   ]
  },
  {
   "cell_type": "code",
   "execution_count": 18,
   "metadata": {},
   "outputs": [
    {
     "name": "stdout",
     "output_type": "stream",
     "text": [
      "Fitting 5 folds for each of 10 candidates, totalling 50 fits\n"
     ]
    }
   ],
   "source": [
    "# Definición y entrenamiento con RandomForestClassifier\n",
    "clf = OneVsRestClassifier(RandomForestClassifier(n_jobs=-1, n_estimators=1000, max_depth=15, random_state=42))\n",
    "\n",
    "\n",
    "#radom search\n",
    "from sklearn.model_selection import RandomizedSearchCV\n",
    "clf_rd_search = RandomizedSearchCV(estimator=clf, param_distributions={\"estimator__n_estimators\": [100, 200, 300, 400, 500, 600, 700, 800, 900, 1000],\n",
    "                                                                 \"estimator__max_depth\": [3, 4, 5, 6, 7, 8, 9, 10, 11, 12, 13, 14, 15, 16, 17, 18, 19, 20]},\n",
    "                                n_iter=10, cv=5, verbose=2, random_state=42, n_jobs=-1)\n",
    "clf_rd_search.fit(X_train, y_train_genres)\n",
    "\n",
    "# Predicción del modelo de clasificación\n",
    "y_pred_genres = clf_rd_search.predict_proba(X_test)\n",
    "\n",
    "# Impresión del desempeño del modelo\n",
    "roc_auc_score(y_test_genres, y_pred_genres, average='macro')\n",
    "\n",
    "# transformación variables predictoras X del conjunto de test\n",
    "X_test_dtm = vec.transform(dataTesting['plot'])\n",
    "\n",
    "# Predicción del conjunto de test\n",
    "y_pred_test_genres = clf_rd_search.predict_proba(X_test_dtm)\n"
   ]
  },
  {
   "cell_type": "code",
   "execution_count": null,
   "metadata": {},
   "outputs": [],
   "source": [
    "#Radom Search V2\n",
    "from sklearn.model_selection import RandomizedSearchCV\n",
    "from scipy.stats import randint as sp_randint\n",
    "\n",
    "\n",
    "# Definición y entrenamiento con RandomForestClassifier\n",
    "clf = OneVsRestClassifier(RandomForestClassifier(n_jobs=-1, n_estimators=1000, max_depth=15, random_state=42))\n",
    "\n",
    "# Rango de búsqueda de parámetro dado: lista o distribución\n",
    "param_dist = {\"estimator__max_depth\": [3, None],                     # Lista dada\n",
    "              \"estimator__max_features\": sp_randint(1, 11),          #Distribución\n",
    "              \"estimator__min_samples_split\": sp_randint(2, 11),     #Distribución\n",
    "              \"estimator__bootstrap\": [True, False],                 # Lista dada\n",
    "              \"estimator__criterion\": [\"gini\", \"entropy\"]}           # Lista dada\n",
    "\n",
    "# Use RandomSearch + CV para seleccionar hiperparámetros\n",
    "n_iter_search = 20\n",
    "\n",
    "clf_rd_search2 = RandomizedSearchCV(clf, param_distributions=param_dist, n_iter=n_iter_search, cv=5)\n",
    "\n",
    "# Ajustamos el modelo\n",
    "clf_rd_search2.fit(X_train, y_train_genres)\n",
    "\n",
    "# Predicción del modelo de clasificación\n",
    "y_pred_genres = clf_rd_search2.predict_proba(X_test)\n",
    "\n",
    "# transformación variables predictoras X del conjunto de test\n",
    "X_test_dtm = vec.transform(dataTesting['plot'])\n",
    "\n",
    "# Predicción del conjunto de test\n",
    "y_pred_test_genres = clf_rd_search.predict_proba(X_test_dtm)"
   ]
  },
  {
   "cell_type": "code",
   "execution_count": 19,
   "metadata": {},
   "outputs": [
    {
     "name": "stdout",
     "output_type": "stream",
     "text": [
      "0.7919369333077283\n"
     ]
    },
    {
     "ename": "AttributeError",
     "evalue": "'RandomizedSearchCV' object has no attribute 'best_estimator_'",
     "output_type": "error",
     "traceback": [
      "\u001b[0;31m---------------------------------------------------------------------------\u001b[0m",
      "\u001b[0;31mAttributeError\u001b[0m                            Traceback (most recent call last)",
      "\u001b[0;32m<ipython-input-19-f042973c4d00>\u001b[0m in \u001b[0;36m<module>\u001b[0;34m\u001b[0m\n\u001b[1;32m      2\u001b[0m \u001b[0mprint\u001b[0m\u001b[0;34m(\u001b[0m\u001b[0mroc_auc_score\u001b[0m\u001b[0;34m(\u001b[0m\u001b[0my_test_genres\u001b[0m\u001b[0;34m,\u001b[0m \u001b[0my_pred_genres\u001b[0m\u001b[0;34m,\u001b[0m \u001b[0maverage\u001b[0m\u001b[0;34m=\u001b[0m\u001b[0;34m'macro'\u001b[0m\u001b[0;34m)\u001b[0m\u001b[0;34m)\u001b[0m\u001b[0;34m\u001b[0m\u001b[0;34m\u001b[0m\u001b[0m\n\u001b[1;32m      3\u001b[0m \u001b[0;34m\u001b[0m\u001b[0m\n\u001b[0;32m----> 4\u001b[0;31m \u001b[0mprint\u001b[0m\u001b[0;34m(\u001b[0m\u001b[0mclf_rd_search2\u001b[0m\u001b[0;34m.\u001b[0m\u001b[0mbest_estimator_\u001b[0m \u001b[0;34m)\u001b[0m\u001b[0;34m\u001b[0m\u001b[0;34m\u001b[0m\u001b[0m\n\u001b[0m\u001b[1;32m      5\u001b[0m \u001b[0mprint\u001b[0m\u001b[0;34m(\u001b[0m\u001b[0mclf_rd_search2\u001b[0m\u001b[0;34m.\u001b[0m\u001b[0mbest_score_\u001b[0m\u001b[0;34m)\u001b[0m\u001b[0;34m\u001b[0m\u001b[0;34m\u001b[0m\u001b[0m\n\u001b[1;32m      6\u001b[0m \u001b[0mprint\u001b[0m\u001b[0;34m(\u001b[0m \u001b[0mclf_rd_search2\u001b[0m\u001b[0;34m.\u001b[0m\u001b[0mbest_params_\u001b[0m\u001b[0;34m)\u001b[0m\u001b[0;34m\u001b[0m\u001b[0;34m\u001b[0m\u001b[0m\n",
      "\u001b[0;31mAttributeError\u001b[0m: 'RandomizedSearchCV' object has no attribute 'best_estimator_'"
     ]
    }
   ],
   "source": [
    "# Impresión del desempeño del modelo\n",
    "print(roc_auc_score(y_test_genres, y_pred_genres, average='macro'))\n",
    "\n",
    "print(clf_rd_search2.best_estimator_ )\n",
    "print(clf_rd_search2.best_score_)\n",
    "print( clf_rd_search2.best_params_)"
   ]
  },
  {
   "cell_type": "code",
   "execution_count": 20,
   "metadata": {},
   "outputs": [
    {
     "data": {
      "text/html": [
       "<div>\n",
       "<style scoped>\n",
       "    .dataframe tbody tr th:only-of-type {\n",
       "        vertical-align: middle;\n",
       "    }\n",
       "\n",
       "    .dataframe tbody tr th {\n",
       "        vertical-align: top;\n",
       "    }\n",
       "\n",
       "    .dataframe thead th {\n",
       "        text-align: right;\n",
       "    }\n",
       "</style>\n",
       "<table border=\"1\" class=\"dataframe\">\n",
       "  <thead>\n",
       "    <tr style=\"text-align: right;\">\n",
       "      <th></th>\n",
       "      <th>p_Action</th>\n",
       "      <th>p_Adventure</th>\n",
       "      <th>p_Animation</th>\n",
       "      <th>p_Biography</th>\n",
       "      <th>p_Comedy</th>\n",
       "      <th>p_Crime</th>\n",
       "      <th>p_Documentary</th>\n",
       "      <th>p_Drama</th>\n",
       "      <th>p_Family</th>\n",
       "      <th>p_Fantasy</th>\n",
       "      <th>...</th>\n",
       "      <th>p_Musical</th>\n",
       "      <th>p_Mystery</th>\n",
       "      <th>p_News</th>\n",
       "      <th>p_Romance</th>\n",
       "      <th>p_Sci-Fi</th>\n",
       "      <th>p_Short</th>\n",
       "      <th>p_Sport</th>\n",
       "      <th>p_Thriller</th>\n",
       "      <th>p_War</th>\n",
       "      <th>p_Western</th>\n",
       "    </tr>\n",
       "  </thead>\n",
       "  <tbody>\n",
       "    <tr>\n",
       "      <th>1</th>\n",
       "      <td>0.095046</td>\n",
       "      <td>0.083828</td>\n",
       "      <td>0.023028</td>\n",
       "      <td>0.032895</td>\n",
       "      <td>0.375159</td>\n",
       "      <td>0.099490</td>\n",
       "      <td>0.042927</td>\n",
       "      <td>0.515594</td>\n",
       "      <td>0.053036</td>\n",
       "      <td>0.110213</td>\n",
       "      <td>...</td>\n",
       "      <td>0.028819</td>\n",
       "      <td>0.057682</td>\n",
       "      <td>0.000000</td>\n",
       "      <td>0.430129</td>\n",
       "      <td>0.041709</td>\n",
       "      <td>0.008139</td>\n",
       "      <td>0.013013</td>\n",
       "      <td>0.172867</td>\n",
       "      <td>0.012890</td>\n",
       "      <td>0.015997</td>\n",
       "    </tr>\n",
       "    <tr>\n",
       "      <th>4</th>\n",
       "      <td>0.121104</td>\n",
       "      <td>0.069533</td>\n",
       "      <td>0.020147</td>\n",
       "      <td>0.102682</td>\n",
       "      <td>0.339917</td>\n",
       "      <td>0.244224</td>\n",
       "      <td>0.149664</td>\n",
       "      <td>0.502987</td>\n",
       "      <td>0.052238</td>\n",
       "      <td>0.051790</td>\n",
       "      <td>...</td>\n",
       "      <td>0.019260</td>\n",
       "      <td>0.047196</td>\n",
       "      <td>0.010492</td>\n",
       "      <td>0.116400</td>\n",
       "      <td>0.046694</td>\n",
       "      <td>0.015195</td>\n",
       "      <td>0.014470</td>\n",
       "      <td>0.170684</td>\n",
       "      <td>0.024201</td>\n",
       "      <td>0.012633</td>\n",
       "    </tr>\n",
       "    <tr>\n",
       "      <th>5</th>\n",
       "      <td>0.213550</td>\n",
       "      <td>0.128769</td>\n",
       "      <td>0.019785</td>\n",
       "      <td>0.060135</td>\n",
       "      <td>0.288934</td>\n",
       "      <td>0.501559</td>\n",
       "      <td>0.022521</td>\n",
       "      <td>0.638764</td>\n",
       "      <td>0.081063</td>\n",
       "      <td>0.107783</td>\n",
       "      <td>...</td>\n",
       "      <td>0.022827</td>\n",
       "      <td>0.357159</td>\n",
       "      <td>0.000000</td>\n",
       "      <td>0.349164</td>\n",
       "      <td>0.112691</td>\n",
       "      <td>0.021754</td>\n",
       "      <td>0.046069</td>\n",
       "      <td>0.455046</td>\n",
       "      <td>0.064613</td>\n",
       "      <td>0.029860</td>\n",
       "    </tr>\n",
       "    <tr>\n",
       "      <th>6</th>\n",
       "      <td>0.149434</td>\n",
       "      <td>0.106181</td>\n",
       "      <td>0.019578</td>\n",
       "      <td>0.056674</td>\n",
       "      <td>0.306812</td>\n",
       "      <td>0.114670</td>\n",
       "      <td>0.009882</td>\n",
       "      <td>0.596499</td>\n",
       "      <td>0.076071</td>\n",
       "      <td>0.055210</td>\n",
       "      <td>...</td>\n",
       "      <td>0.186012</td>\n",
       "      <td>0.097967</td>\n",
       "      <td>0.000000</td>\n",
       "      <td>0.185916</td>\n",
       "      <td>0.127264</td>\n",
       "      <td>0.001910</td>\n",
       "      <td>0.041131</td>\n",
       "      <td>0.268309</td>\n",
       "      <td>0.119922</td>\n",
       "      <td>0.016668</td>\n",
       "    </tr>\n",
       "    <tr>\n",
       "      <th>7</th>\n",
       "      <td>0.153125</td>\n",
       "      <td>0.189816</td>\n",
       "      <td>0.023326</td>\n",
       "      <td>0.021764</td>\n",
       "      <td>0.262214</td>\n",
       "      <td>0.229032</td>\n",
       "      <td>0.007543</td>\n",
       "      <td>0.436897</td>\n",
       "      <td>0.092158</td>\n",
       "      <td>0.233228</td>\n",
       "      <td>...</td>\n",
       "      <td>0.024522</td>\n",
       "      <td>0.104939</td>\n",
       "      <td>0.000000</td>\n",
       "      <td>0.180202</td>\n",
       "      <td>0.451825</td>\n",
       "      <td>0.005705</td>\n",
       "      <td>0.021240</td>\n",
       "      <td>0.257249</td>\n",
       "      <td>0.012129</td>\n",
       "      <td>0.015932</td>\n",
       "    </tr>\n",
       "  </tbody>\n",
       "</table>\n",
       "<p>5 rows × 24 columns</p>\n",
       "</div>"
      ],
      "text/plain": [
       "   p_Action  p_Adventure  p_Animation  p_Biography  p_Comedy   p_Crime  \\\n",
       "1  0.095046     0.083828     0.023028     0.032895  0.375159  0.099490   \n",
       "4  0.121104     0.069533     0.020147     0.102682  0.339917  0.244224   \n",
       "5  0.213550     0.128769     0.019785     0.060135  0.288934  0.501559   \n",
       "6  0.149434     0.106181     0.019578     0.056674  0.306812  0.114670   \n",
       "7  0.153125     0.189816     0.023326     0.021764  0.262214  0.229032   \n",
       "\n",
       "   p_Documentary   p_Drama  p_Family  p_Fantasy  ...  p_Musical  p_Mystery  \\\n",
       "1       0.042927  0.515594  0.053036   0.110213  ...   0.028819   0.057682   \n",
       "4       0.149664  0.502987  0.052238   0.051790  ...   0.019260   0.047196   \n",
       "5       0.022521  0.638764  0.081063   0.107783  ...   0.022827   0.357159   \n",
       "6       0.009882  0.596499  0.076071   0.055210  ...   0.186012   0.097967   \n",
       "7       0.007543  0.436897  0.092158   0.233228  ...   0.024522   0.104939   \n",
       "\n",
       "     p_News  p_Romance  p_Sci-Fi   p_Short   p_Sport  p_Thriller     p_War  \\\n",
       "1  0.000000   0.430129  0.041709  0.008139  0.013013    0.172867  0.012890   \n",
       "4  0.010492   0.116400  0.046694  0.015195  0.014470    0.170684  0.024201   \n",
       "5  0.000000   0.349164  0.112691  0.021754  0.046069    0.455046  0.064613   \n",
       "6  0.000000   0.185916  0.127264  0.001910  0.041131    0.268309  0.119922   \n",
       "7  0.000000   0.180202  0.451825  0.005705  0.021240    0.257249  0.012129   \n",
       "\n",
       "   p_Western  \n",
       "1   0.015997  \n",
       "4   0.012633  \n",
       "5   0.029860  \n",
       "6   0.016668  \n",
       "7   0.015932  \n",
       "\n",
       "[5 rows x 24 columns]"
      ]
     },
     "execution_count": 20,
     "metadata": {},
     "output_type": "execute_result"
    }
   ],
   "source": [
    "# Guardar predicciones en formato exigido en la competencia de kaggle\n",
    "cols = ['p_Action', 'p_Adventure', 'p_Animation', 'p_Biography', 'p_Comedy', 'p_Crime', 'p_Documentary', 'p_Drama', 'p_Family',\n",
    "        'p_Fantasy', 'p_Film-Noir', 'p_History', 'p_Horror', 'p_Music', 'p_Musical', 'p_Mystery', 'p_News', 'p_Romance',\n",
    "        'p_Sci-Fi', 'p_Short', 'p_Sport', 'p_Thriller', 'p_War', 'p_Western']\n",
    "\n",
    "res = pd.DataFrame(y_pred_test_genres, index=dataTesting.index, columns=cols)\n",
    "res.to_csv('pred_genres_text_RF.csv', index_label='ID')\n",
    "res.head()"
   ]
  },
  {
   "cell_type": "markdown",
   "metadata": {},
   "source": [
    "### Guardar el Modelo Calibrado"
   ]
  },
  {
   "cell_type": "code",
   "execution_count": null,
   "metadata": {},
   "outputs": [],
   "source": [
    "# Exportar modelo a archivo binario .pkl\n",
    "joblib.dump(clf_rd_search, 'modelo_predice_generos.pkl', compress=3)"
   ]
  },
  {
   "cell_type": "markdown",
   "metadata": {},
   "source": [
    "## Esta sección en independiente, por lo que se puede ejecutar sin necesidad de correr las celdas previas.\n",
    "\n",
    "-  Solo se requiere el pkl del modelo generado\n",
    "- la libreria predice_generos.py\n",
    "- y ubicarlos en la misma ubicación de este notebook"
   ]
  },
  {
   "cell_type": "markdown",
   "metadata": {},
   "source": [
    "### Ejemplo de ejecución"
   ]
  },
  {
   "cell_type": "code",
   "execution_count": null,
   "metadata": {},
   "outputs": [],
   "source": [
    "\n",
    "# Importar modelo y predicción\n",
    "from sklearn.feature_extraction.text import CountVectorizer\n",
    "from predice_generos import predice_GENEROS\n",
    "\n",
    "corpus=['most is the story of a single father who takes his eight year - old son to work with him at the railroad drawbridge where he is the bridge tender .  a day before ,  the boy meets a woman boarding a train ,  a drug abuser .  at the bridge ,  the father goes into the engine room ,  and tells his son to stay at the edge of the nearby lake .  a ship comes ,  and the bridge is lifted .  though it is supposed to arrive an hour later ,  the train happens to arrive .  the son sees this ,  and tries to warn his father ,  who is not able to see this .  just as the oncoming train approaches ,  his son falls into the drawbridge gear works while attempting to lower the bridge ,  leaving the father with a horrific choice .  the father then lowers the bridge ,  the gears crushing the boy .  the people in the train are completely oblivious to the fact a boy died trying to save them ,  other than the drug addict woman ,  who happened to look out her train window .  the movie ends ,  with the man wandering a new city ,  and meets the woman ,  no longer a drug addict ,  holding a small baby .  other relevant narratives run in parallel ,  namely one of the female drug - addict ,  and they all meet at the climax of this tumultuous film .']\n",
    "\n",
    "# Predicción de genero\n",
    "y_pred_test_genres=predice_GENEROS(corpus) \n",
    "\n",
    "y_pred_test_genres"
   ]
  },
  {
   "cell_type": "markdown",
   "metadata": {},
   "source": [
    "## Disponibilizar modelo con Flask"
   ]
  },
  {
   "cell_type": "code",
   "execution_count": null,
   "metadata": {},
   "outputs": [],
   "source": [
    "import joblib\n",
    "import werkzeug\n",
    "from werkzeug.utils import cached_property\n",
    "from flask import Flask\n",
    "\n",
    "try:\n",
    "    from flask_restplus import Api, Resource, fields, marshal\n",
    "except ImportError:\n",
    "    import werkzeug\n",
    "    werkzeug.cached_property = werkzeug.utils.cached_property\n",
    "    from flask_restplus import Resource, Api, fields, marshal\n",
    "\n",
    "from predice_generos import predice_GENEROS\n",
    "\n",
    "# Definición aplicación Flask\n",
    "app = Flask(__name__)\n",
    "\n",
    "# Definición API Flask\n",
    "api = Api(\n",
    "    app, \n",
    "    version='1.0', \n",
    "    title='API de Predicción de Generos de Peliculas',\n",
    "    description='API de Predicción de Generos de Peliculas')\n",
    "\n",
    "ns = api.namespace('predict', \n",
    "     description='Predición de Generos de Peliculas')\n",
    "\n",
    "# Definición argumentos o parámetros de la API\n",
    "parser = api.parser()\n",
    "\n",
    "\n",
    "\n",
    "parser.add_argument(\n",
    "    'Plot', \n",
    "    type=str, \n",
    "    required=True, \n",
    "    help='', \n",
    "    location='args')\n",
    "\n",
    "\n",
    "resource_fields = api.model('Resource', {\n",
    "    'p_Action': fields.String,\n",
    "    'p_Adventure' : fields.String,\n",
    "    'p_Animation' : fields.String,\n",
    "    'p_Biography' : fields.String,\n",
    "    'p_Comedy' : fields.String,\n",
    "    'p_Crime' : fields.String,\n",
    "    'p_Documentary' : fields.String,\n",
    "    'p_Drama' : fields.String,\n",
    "    'p_Family' : fields.String,\n",
    "    'p_Fantasy' : fields.String,       \n",
    "    'p_Film-Noir' : fields.String,\n",
    "    'p_History' : fields.String,\n",
    "    'p_Horror' : fields.String,\n",
    "    'p_Music' : fields.String,\n",
    "    'p_Mystery' : fields.String,\n",
    "    'p_News' : fields.String,\n",
    "    'p_Romance' : fields.String,\n",
    "    'p_Sci-Fi' : fields.String,\n",
    "    'p_Short' : fields.String,\n",
    "    'p_Sport' : fields.String,\n",
    "    'p_Thriller' : fields.String,\n",
    "    'p_War' : fields.String,\n",
    "    'p_Western' : fields.String\n",
    "    })\n",
    "\n",
    "\n",
    "# Definición de la clase para disponibilización\n",
    "@ns.route('/')\n",
    "class GenerosApi(Resource):\n",
    "\n",
    "    @api.doc(parser=parser)\n",
    "    @api.marshal_with(resource_fields)\n",
    "    def get(self):\n",
    "        args = parser.parse_args()\n",
    "        print(args)\n",
    "        generos=predice_GENEROS([args['Plot']])\n",
    "        \n",
    "        return {\n",
    "        'p_Action': generos['p_Action'],\n",
    "        'p_Adventure' : generos['p_Adventure'],\n",
    "        'p_Animation' : generos['p_Animation'],\n",
    "        'p_Biography' : generos['p_Biography'],\n",
    "        'p_Comedy' : generos['p_Comedy'],\n",
    "        'p_Crime' : generos['p_Crime'],\n",
    "        'p_Documentary' : generos['p_Documentary'],\n",
    "        'p_Drama' : generos['p_Drama'],\n",
    "        'p_Family' : generos['p_Family'],\n",
    "        'p_Fantasy' : generos['p_Fantasy'],       ''\n",
    "        'p_Film-Noir' : generos['p_Film-Noir'],\n",
    "        'p_History' : generos['p_History'],\n",
    "        'p_Horror' : generos['p_Horror'],\n",
    "        'p_Music' : generos['p_Music'],\n",
    "        'p_Mystery' : generos['p_Mystery'],\n",
    "        'p_News' : generos['p_News'],\n",
    "        'p_Romance' : generos['p_Romance'],\n",
    "        'p_Sci-Fi' : generos['p_Sci-Fi'],\n",
    "        'p_Short' : generos['p_Short'],\n",
    "        'p_Sport' : generos['p_Sport'],\n",
    "        'p_Thriller' : generos['p_Thriller'],\n",
    "        'p_War' : generos['p_War'],\n",
    "        'p_Western' : generos['p_Western']\n",
    "        }, 200\n",
    "\n",
    "# Ejecución de la aplicación que disponibiliza el modelo de manera local en el puerto 5002\n",
    "app.run(debug=True, use_reloader=False, host='0.0.0.0', port=5002)"
   ]
  },
  {
   "cell_type": "code",
   "execution_count": null,
   "metadata": {},
   "outputs": [],
   "source": []
  }
 ],
 "metadata": {
  "interpreter": {
   "hash": "4cf03a2963743c57c72d8ba6632c2081b501cae1666301abc782d21392c9048f"
  },
  "kernelspec": {
   "display_name": "Python 3",
   "language": "python",
   "name": "python3"
  },
  "language_info": {
   "codemirror_mode": {
    "name": "ipython",
    "version": 3
   },
   "file_extension": ".py",
   "mimetype": "text/x-python",
   "name": "python",
   "nbconvert_exporter": "python",
   "pygments_lexer": "ipython3",
   "version": "3.8.8"
  }
 },
 "nbformat": 4,
 "nbformat_minor": 1
}
