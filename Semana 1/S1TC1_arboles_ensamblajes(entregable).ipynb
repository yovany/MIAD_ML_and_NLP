{
 "cells": [
  {
   "cell_type": "markdown",
   "metadata": {},
   "source": [
    "![image info](https://raw.githubusercontent.com/albahnsen/MIAD_ML_and_NLP/main/images/banner_1.png)"
   ]
  },
  {
   "cell_type": "markdown",
   "metadata": {},
   "source": [
    "# Taller: Construcción e implementación de árboles de decisión y métodos de ensamblaje\n",
    "\n",
    "En este taller podrá poner en práctica los sus conocimientos sobre construcción e implementación de árboles de decisión y métodos de ensamblajes. El taller está constituido por 9 puntos, 5 relacionados con árboles de decisión (parte A) y 4 con métodos de ensamblaje (parte B)."
   ]
  },
  {
   "cell_type": "markdown",
   "metadata": {},
   "source": [
    "## Parte A - Árboles de decisión\n",
    "\n",
    "En esta parte del taller se usará el conjunto de datos de Capital Bikeshare de Kaggle, donde cada observación representa el alquiler de una bicicleta durante una hora y día determinado. Para más detalles puede visitar los siguientes enlaces: [datos](https://github.com/justmarkham/DAT8/blob/master/data/bikeshare.csv), [dicccionario de datos](https://www.kaggle.com/c/bike-sharing-demand/data)."
   ]
  },
  {
   "cell_type": "markdown",
   "metadata": {},
   "source": [
    "### Datos prestamo de bicicletas"
   ]
  },
  {
   "cell_type": "code",
   "execution_count": 1,
   "metadata": {},
   "outputs": [],
   "source": [
    "import warnings\n",
    "warnings.filterwarnings('ignore')"
   ]
  },
  {
   "cell_type": "code",
   "execution_count": 2,
   "metadata": {},
   "outputs": [],
   "source": [
    "# Importación de librerías\n",
    "%matplotlib inline\n",
    "import pandas as pd\n",
    "import numpy as np\n",
    "import math\n",
    "import matplotlib.pyplot as plt\n",
    "from sklearn.model_selection import cross_val_score\n",
    "from sklearn.linear_model import LinearRegression\n",
    "from sklearn.linear_model import LogisticRegression\n",
    "from sklearn.tree import DecisionTreeRegressor, export_graphviz, DecisionTreeClassifier\n",
    "from sklearn.model_selection import train_test_split\n",
    "from sklearn.metrics import mean_squared_error\n",
    "from sklearn.metrics import confusion_matrix\n",
    "from sklearn.metrics import precision_score, recall_score, f1_score, accuracy_score\n",
    "from sklearn.tree import plot_tree\n",
    "from sklearn import metrics"
   ]
  },
  {
   "cell_type": "code",
   "execution_count": 3,
   "metadata": {},
   "outputs": [
    {
     "data": {
      "text/html": [
       "<div>\n",
       "<style scoped>\n",
       "    .dataframe tbody tr th:only-of-type {\n",
       "        vertical-align: middle;\n",
       "    }\n",
       "\n",
       "    .dataframe tbody tr th {\n",
       "        vertical-align: top;\n",
       "    }\n",
       "\n",
       "    .dataframe thead th {\n",
       "        text-align: right;\n",
       "    }\n",
       "</style>\n",
       "<table border=\"1\" class=\"dataframe\">\n",
       "  <thead>\n",
       "    <tr style=\"text-align: right;\">\n",
       "      <th></th>\n",
       "      <th>season</th>\n",
       "      <th>holiday</th>\n",
       "      <th>workingday</th>\n",
       "      <th>weather</th>\n",
       "      <th>temp</th>\n",
       "      <th>atemp</th>\n",
       "      <th>humidity</th>\n",
       "      <th>windspeed</th>\n",
       "      <th>casual</th>\n",
       "      <th>registered</th>\n",
       "      <th>total</th>\n",
       "      <th>hour</th>\n",
       "    </tr>\n",
       "    <tr>\n",
       "      <th>datetime</th>\n",
       "      <th></th>\n",
       "      <th></th>\n",
       "      <th></th>\n",
       "      <th></th>\n",
       "      <th></th>\n",
       "      <th></th>\n",
       "      <th></th>\n",
       "      <th></th>\n",
       "      <th></th>\n",
       "      <th></th>\n",
       "      <th></th>\n",
       "      <th></th>\n",
       "    </tr>\n",
       "  </thead>\n",
       "  <tbody>\n",
       "    <tr>\n",
       "      <th>2011-01-01 00:00:00</th>\n",
       "      <td>1</td>\n",
       "      <td>0</td>\n",
       "      <td>0</td>\n",
       "      <td>1</td>\n",
       "      <td>9.84</td>\n",
       "      <td>14.395</td>\n",
       "      <td>81</td>\n",
       "      <td>0.0000</td>\n",
       "      <td>3</td>\n",
       "      <td>13</td>\n",
       "      <td>16</td>\n",
       "      <td>0</td>\n",
       "    </tr>\n",
       "    <tr>\n",
       "      <th>2011-01-01 01:00:00</th>\n",
       "      <td>1</td>\n",
       "      <td>0</td>\n",
       "      <td>0</td>\n",
       "      <td>1</td>\n",
       "      <td>9.02</td>\n",
       "      <td>13.635</td>\n",
       "      <td>80</td>\n",
       "      <td>0.0000</td>\n",
       "      <td>8</td>\n",
       "      <td>32</td>\n",
       "      <td>40</td>\n",
       "      <td>1</td>\n",
       "    </tr>\n",
       "    <tr>\n",
       "      <th>2011-01-01 02:00:00</th>\n",
       "      <td>1</td>\n",
       "      <td>0</td>\n",
       "      <td>0</td>\n",
       "      <td>1</td>\n",
       "      <td>9.02</td>\n",
       "      <td>13.635</td>\n",
       "      <td>80</td>\n",
       "      <td>0.0000</td>\n",
       "      <td>5</td>\n",
       "      <td>27</td>\n",
       "      <td>32</td>\n",
       "      <td>2</td>\n",
       "    </tr>\n",
       "    <tr>\n",
       "      <th>2011-01-01 03:00:00</th>\n",
       "      <td>1</td>\n",
       "      <td>0</td>\n",
       "      <td>0</td>\n",
       "      <td>1</td>\n",
       "      <td>9.84</td>\n",
       "      <td>14.395</td>\n",
       "      <td>75</td>\n",
       "      <td>0.0000</td>\n",
       "      <td>3</td>\n",
       "      <td>10</td>\n",
       "      <td>13</td>\n",
       "      <td>3</td>\n",
       "    </tr>\n",
       "    <tr>\n",
       "      <th>2011-01-01 04:00:00</th>\n",
       "      <td>1</td>\n",
       "      <td>0</td>\n",
       "      <td>0</td>\n",
       "      <td>1</td>\n",
       "      <td>9.84</td>\n",
       "      <td>14.395</td>\n",
       "      <td>75</td>\n",
       "      <td>0.0000</td>\n",
       "      <td>0</td>\n",
       "      <td>1</td>\n",
       "      <td>1</td>\n",
       "      <td>4</td>\n",
       "    </tr>\n",
       "    <tr>\n",
       "      <th>...</th>\n",
       "      <td>...</td>\n",
       "      <td>...</td>\n",
       "      <td>...</td>\n",
       "      <td>...</td>\n",
       "      <td>...</td>\n",
       "      <td>...</td>\n",
       "      <td>...</td>\n",
       "      <td>...</td>\n",
       "      <td>...</td>\n",
       "      <td>...</td>\n",
       "      <td>...</td>\n",
       "      <td>...</td>\n",
       "    </tr>\n",
       "    <tr>\n",
       "      <th>2011-01-05 04:00:00</th>\n",
       "      <td>1</td>\n",
       "      <td>0</td>\n",
       "      <td>1</td>\n",
       "      <td>1</td>\n",
       "      <td>9.84</td>\n",
       "      <td>11.365</td>\n",
       "      <td>48</td>\n",
       "      <td>15.0013</td>\n",
       "      <td>0</td>\n",
       "      <td>2</td>\n",
       "      <td>2</td>\n",
       "      <td>4</td>\n",
       "    </tr>\n",
       "    <tr>\n",
       "      <th>2011-01-05 05:00:00</th>\n",
       "      <td>1</td>\n",
       "      <td>0</td>\n",
       "      <td>1</td>\n",
       "      <td>1</td>\n",
       "      <td>9.02</td>\n",
       "      <td>11.365</td>\n",
       "      <td>47</td>\n",
       "      <td>11.0014</td>\n",
       "      <td>0</td>\n",
       "      <td>3</td>\n",
       "      <td>3</td>\n",
       "      <td>5</td>\n",
       "    </tr>\n",
       "    <tr>\n",
       "      <th>2011-01-05 06:00:00</th>\n",
       "      <td>1</td>\n",
       "      <td>0</td>\n",
       "      <td>1</td>\n",
       "      <td>1</td>\n",
       "      <td>8.20</td>\n",
       "      <td>9.850</td>\n",
       "      <td>47</td>\n",
       "      <td>15.0013</td>\n",
       "      <td>0</td>\n",
       "      <td>33</td>\n",
       "      <td>33</td>\n",
       "      <td>6</td>\n",
       "    </tr>\n",
       "    <tr>\n",
       "      <th>2011-01-05 07:00:00</th>\n",
       "      <td>1</td>\n",
       "      <td>0</td>\n",
       "      <td>1</td>\n",
       "      <td>1</td>\n",
       "      <td>7.38</td>\n",
       "      <td>9.090</td>\n",
       "      <td>43</td>\n",
       "      <td>12.9980</td>\n",
       "      <td>1</td>\n",
       "      <td>87</td>\n",
       "      <td>88</td>\n",
       "      <td>7</td>\n",
       "    </tr>\n",
       "    <tr>\n",
       "      <th>2011-01-05 08:00:00</th>\n",
       "      <td>1</td>\n",
       "      <td>0</td>\n",
       "      <td>1</td>\n",
       "      <td>1</td>\n",
       "      <td>8.20</td>\n",
       "      <td>9.090</td>\n",
       "      <td>40</td>\n",
       "      <td>19.9995</td>\n",
       "      <td>3</td>\n",
       "      <td>192</td>\n",
       "      <td>195</td>\n",
       "      <td>8</td>\n",
       "    </tr>\n",
       "  </tbody>\n",
       "</table>\n",
       "<p>100 rows × 12 columns</p>\n",
       "</div>"
      ],
      "text/plain": [
       "                     season  holiday  workingday  weather  temp   atemp  \\\n",
       "datetime                                                                  \n",
       "2011-01-01 00:00:00       1        0           0        1  9.84  14.395   \n",
       "2011-01-01 01:00:00       1        0           0        1  9.02  13.635   \n",
       "2011-01-01 02:00:00       1        0           0        1  9.02  13.635   \n",
       "2011-01-01 03:00:00       1        0           0        1  9.84  14.395   \n",
       "2011-01-01 04:00:00       1        0           0        1  9.84  14.395   \n",
       "...                     ...      ...         ...      ...   ...     ...   \n",
       "2011-01-05 04:00:00       1        0           1        1  9.84  11.365   \n",
       "2011-01-05 05:00:00       1        0           1        1  9.02  11.365   \n",
       "2011-01-05 06:00:00       1        0           1        1  8.20   9.850   \n",
       "2011-01-05 07:00:00       1        0           1        1  7.38   9.090   \n",
       "2011-01-05 08:00:00       1        0           1        1  8.20   9.090   \n",
       "\n",
       "                     humidity  windspeed  casual  registered  total  hour  \n",
       "datetime                                                                   \n",
       "2011-01-01 00:00:00        81     0.0000       3          13     16     0  \n",
       "2011-01-01 01:00:00        80     0.0000       8          32     40     1  \n",
       "2011-01-01 02:00:00        80     0.0000       5          27     32     2  \n",
       "2011-01-01 03:00:00        75     0.0000       3          10     13     3  \n",
       "2011-01-01 04:00:00        75     0.0000       0           1      1     4  \n",
       "...                       ...        ...     ...         ...    ...   ...  \n",
       "2011-01-05 04:00:00        48    15.0013       0           2      2     4  \n",
       "2011-01-05 05:00:00        47    11.0014       0           3      3     5  \n",
       "2011-01-05 06:00:00        47    15.0013       0          33     33     6  \n",
       "2011-01-05 07:00:00        43    12.9980       1          87     88     7  \n",
       "2011-01-05 08:00:00        40    19.9995       3         192    195     8  \n",
       "\n",
       "[100 rows x 12 columns]"
      ]
     },
     "execution_count": 3,
     "metadata": {},
     "output_type": "execute_result"
    }
   ],
   "source": [
    "# Lectura de la información de archivo .csv\n",
    "bikes = pd.read_csv('https://raw.githubusercontent.com/albahnsen/MIAD_ML_and_NLP/main/datasets/bikeshare.csv', index_col='datetime', parse_dates=True)\n",
    "# Renombrar variable \"count\" a \"total\"\n",
    "bikes.rename(columns={'count':'total'}, inplace=True)\n",
    "# Crear la hora como una variable \n",
    "bikes['hour'] = bikes.index.hour\n",
    "# Visualización\n",
    "bikes.head(100)"
   ]
  },
  {
   "cell_type": "markdown",
   "metadata": {},
   "source": [
    "### Punto 1 - Análisis descriptivo\n",
    "\n",
    "Ejecute las celdas 1.1 y 1.2. A partir de los resultados realice un análisis descriptivo sobre las variables hour y workingday, escriba sus inferencias sobre los datos. Para complementar su análisis puede usar métricas como máximo, mínimo, percentiles entre otros."
   ]
  },
  {
   "cell_type": "code",
   "execution_count": 4,
   "metadata": {
    "scrolled": true
   },
   "outputs": [
    {
     "name": "stdout",
     "output_type": "stream",
     "text": [
      "Tabla de frecuencia de la variable workingday\n",
      "1    7412\n",
      "0    3474\n",
      "Name: workingday, dtype: int64\n",
      "\n",
      "Tabla de frecuencia relativa  de la variable workingday\n",
      "1    68.087452\n",
      "0    31.912548\n",
      "Name: workingday, dtype: float64\n",
      "\n",
      "Resumen descriptivo de la variable workingday\n"
     ]
    },
    {
     "data": {
      "text/plain": [
       "count    10886.000000\n",
       "mean         0.680875\n",
       "std          0.466159\n",
       "min          0.000000\n",
       "25%          0.000000\n",
       "50%          1.000000\n",
       "75%          1.000000\n",
       "max          1.000000\n",
       "Name: workingday, dtype: float64"
      ]
     },
     "execution_count": 4,
     "metadata": {},
     "output_type": "execute_result"
    }
   ],
   "source": [
    "# Celda 1.1\n",
    "print('Tabla de frecuencia de la variable workingday')\n",
    "print(pd.value_counts(bikes['workingday']))\n",
    "print()\n",
    "print('Tabla de frecuencia relativa  de la variable workingday')\n",
    "print(100*bikes['workingday'].value_counts()/len(bikes['workingday']))\n",
    "print()\n",
    "print('Resumen descriptivo de la variable workingday')\n",
    "bikes['workingday'].describe()"
   ]
  },
  {
   "cell_type": "markdown",
   "metadata": {},
   "source": [
    "A partir del análisis descriptivo de la variable se puede concluir que en total se cuenta con 10,886 observaciones de las cuales 7,412 que representan el 68% del total corresponden a viajes realizados en dias laborales."
   ]
  },
  {
   "cell_type": "code",
   "execution_count": 5,
   "metadata": {
    "scrolled": false
   },
   "outputs": [
    {
     "name": "stdout",
     "output_type": "stream",
     "text": [
      "Tabla de frecuencia de la variable hour\n",
      "0     455\n",
      "1     454\n",
      "2     448\n",
      "3     433\n",
      "4     442\n",
      "5     452\n",
      "6     455\n",
      "7     455\n",
      "8     455\n",
      "9     455\n",
      "10    455\n",
      "11    455\n",
      "12    456\n",
      "13    456\n",
      "14    456\n",
      "15    456\n",
      "16    456\n",
      "17    456\n",
      "18    456\n",
      "19    456\n",
      "20    456\n",
      "21    456\n",
      "22    456\n",
      "23    456\n",
      "Name: hour, dtype: int64\n",
      "\n",
      "Tabla de frecuencia relativa  de la variable hour\n",
      "0     4.179680\n",
      "1     4.170494\n",
      "2     4.115378\n",
      "3     3.977586\n",
      "4     4.060261\n",
      "5     4.152122\n",
      "6     4.179680\n",
      "7     4.179680\n",
      "8     4.179680\n",
      "9     4.179680\n",
      "10    4.179680\n",
      "11    4.179680\n",
      "12    4.188866\n",
      "13    4.188866\n",
      "14    4.188866\n",
      "15    4.188866\n",
      "16    4.188866\n",
      "17    4.188866\n",
      "18    4.188866\n",
      "19    4.188866\n",
      "20    4.188866\n",
      "21    4.188866\n",
      "22    4.188866\n",
      "23    4.188866\n",
      "Name: hour, dtype: float64\n",
      "\n",
      "Resumen descriptivo de la variable hour\n"
     ]
    },
    {
     "data": {
      "text/plain": [
       "count    10886.000000\n",
       "mean        11.541613\n",
       "std          6.915838\n",
       "min          0.000000\n",
       "25%          6.000000\n",
       "50%         12.000000\n",
       "75%         18.000000\n",
       "max         23.000000\n",
       "Name: hour, dtype: float64"
      ]
     },
     "execution_count": 5,
     "metadata": {},
     "output_type": "execute_result"
    }
   ],
   "source": [
    "# Celda 1.2\n",
    "print('Tabla de frecuencia de la variable hour')\n",
    "print(bikes['hour'].value_counts().sort_index())\n",
    "print()\n",
    "print('Tabla de frecuencia relativa  de la variable hour')\n",
    "print(100*bikes['hour'].value_counts().sort_index()/len(bikes['hour']))\n",
    "print()\n",
    "print('Resumen descriptivo de la variable hour')\n",
    "bikes['hour'].describe()"
   ]
  },
  {
   "cell_type": "markdown",
   "metadata": {},
   "source": [
    "A partir del análisis descriptivo de la variable se puede concluir que en total se cuenta con 10,886 observaciones de las cuales se tienen 24 categorias que corresponden a las horas del día y se puede apreciar que cada categoría cuenta con el mismo número de observaciones, que en promedio representan el 4% del total de las observaciones."
   ]
  },
  {
   "cell_type": "markdown",
   "metadata": {},
   "source": [
    "### Punto 2 - Análisis de gráficos\n",
    "\n",
    "Primero ejecute la celda 2.1 y asegúrese de comprender el código y el resultado. Luego, en cada una de celdas 2.2 y 2.3 escriba un código que genere una gráfica de las rentas promedio por hora cuando la variable \"workingday\" es igual a 0 e igual a 1, respectivamente. Analice y escriba sus hallazgos."
   ]
  },
  {
   "cell_type": "code",
   "execution_count": 6,
   "metadata": {},
   "outputs": [
    {
     "data": {
      "text/plain": [
       "<AxesSubplot:xlabel='hour'>"
      ]
     },
     "execution_count": 6,
     "metadata": {},
     "output_type": "execute_result"
    },
    {
     "data": {
      "image/png": "[encoded data removed]",
      "text/plain": [
       "<Figure size 432x288 with 1 Axes>"
      ]
     },
     "metadata": {
      "needs_background": "light"
     },
     "output_type": "display_data"
    }
   ],
   "source": [
    "# Celda 2.1 - rentas promedio para cada valor de la variable \"hour\"\n",
    "bikes.groupby('hour').total.mean().plot()"
   ]
  },
  {
   "cell_type": "code",
   "execution_count": 7,
   "metadata": {},
   "outputs": [
    {
     "data": {
      "text/plain": [
       "<AxesSubplot:xlabel='hour'>"
      ]
     },
     "execution_count": 7,
     "metadata": {},
     "output_type": "execute_result"
    },
    {
     "data": {
      "image/png": "[encoded data removed]",
      "text/plain": [
       "<Figure size 432x288 with 1 Axes>"
      ]
     },
     "metadata": {
      "needs_background": "light"
     },
     "output_type": "display_data"
    }
   ],
   "source": [
    "# Celda 2.2 - \"workingday\"=0 escriba su código y hallazgos \n",
    "\n",
    "no_workingday=bikes['workingday']==0\n",
    "bikes[no_workingday].groupby('hour').total.mean().plot()\n"
   ]
  },
  {
   "cell_type": "markdown",
   "metadata": {},
   "source": [
    "A partir de la gráfica se puede inferir que las horas mas concurridas en fines de semana se encuentran entre las 12 hrs y 17 hrs."
   ]
  },
  {
   "cell_type": "code",
   "execution_count": 8,
   "metadata": {},
   "outputs": [
    {
     "data": {
      "text/plain": [
       "<AxesSubplot:xlabel='hour'>"
      ]
     },
     "execution_count": 8,
     "metadata": {},
     "output_type": "execute_result"
    },
    {
     "data": {
      "image/png": "[encoded data removed]",
      "text/plain": [
       "<Figure size 432x288 with 1 Axes>"
      ]
     },
     "metadata": {
      "needs_background": "light"
     },
     "output_type": "display_data"
    }
   ],
   "source": [
    "# Celda 2.3 - \"workingday\"=1 escriba su código y hallazgos \n",
    "workingday=bikes['workingday']==1\n",
    "\n",
    "bikes[workingday].groupby('hour').total.mean().plot()"
   ]
  },
  {
   "cell_type": "markdown",
   "metadata": {},
   "source": [
    "A apartir de la gráfica se puede apreciar que las horas más concurridas en los días laborales coinciden con los horarios del inicio y fin de la jornada laboral"
   ]
  },
  {
   "cell_type": "markdown",
   "metadata": {},
   "source": [
    "### Punto 3 - Regresión lineal\n",
    "En la celda 3 ajuste un modelo de regresión lineal a todo el conjunto de datos, utilizando \"total\" como variable de respuesta y \"hour\" y \"workingday\" como las únicas variables predictoras. Luego, imprima los coeficientes e interprételos. ¿Cuáles son las limitaciones de la regresión lineal en este caso?"
   ]
  },
  {
   "cell_type": "code",
   "execution_count": 9,
   "metadata": {},
   "outputs": [
    {
     "name": "stdout",
     "output_type": "stream",
     "text": [
      "Intercept: 63.52695347088172\n",
      "Coeficiente workingday:  6.77044099515647\n",
      "Coeficiente hour:  10.550994216815008\n",
      "Error cuadrático medio:  27657.435595059633\n",
      "Raiz error cuadrático medio:  166.3052482486937\n",
      "Coeficiente de determinación R^2: 0.15357074523449832\n"
     ]
    }
   ],
   "source": [
    "# Celda 3\n",
    "\n",
    "XTotal = bikes.loc[:,['workingday','hour']]\n",
    "\n",
    "yTotal = bikes['total']\n",
    "\n",
    "XTrain, XTest, yTrain, yTest = train_test_split(XTotal, yTotal, test_size=0.33, random_state=0)\n",
    "\n",
    "modelo = LinearRegression()\n",
    "modelo.fit(X = XTrain , y = yTrain)\n",
    "\n",
    "YPredicion = modelo.predict(XTest)\n",
    "\n",
    "print(\"Intercept:\", modelo.intercept_)\n",
    "print('Coeficiente workingday: ', modelo.coef_[0])\n",
    "print('Coeficiente hour: ', modelo.coef_[1])\n",
    "print('Error cuadrático medio: ',mean_squared_error(yTest, YPredicion))\n",
    "print('Raiz error cuadrático medio: ',math.sqrt(mean_squared_error(yTest, YPredicion)))\n",
    "print(\"Coeficiente de determinación R^2:\", modelo.score(XTest, yTest))"
   ]
  },
  {
   "cell_type": "markdown",
   "metadata": {},
   "source": [
    "Lo que podemos concluir que el modelo de regresión lineal puede explicar solo un 15% la variación de la variable de respuesta, por lo que deberia analizarce otras alternativas."
   ]
  },
  {
   "cell_type": "markdown",
   "metadata": {},
   "source": [
    "### Punto 4 - Árbol de decisión manual\n",
    "En la celda 4 cree un árbol de decisiones para pronosticar la variable \"total\" iterando **manualmente** sobre las variables \"hour\" y  \"workingday\". El árbol debe tener al menos 6 nodos finales."
   ]
  },
  {
   "cell_type": "code",
   "execution_count": 10,
   "metadata": {
    "scrolled": false
   },
   "outputs": [
    {
     "data": {
      "text/plain": [
       "{'y_pred': 1,\n",
       " 'y_prob': 189.5754626456477,\n",
       " 'level': 0,\n",
       " 'split': [1, 6.0],\n",
       " 'n_samples': 7293,\n",
       " 'gain': 18062.068697976065,\n",
       " 'sl': {'y_pred': 1,\n",
       "  'y_prob': 25.225806451612904,\n",
       "  'level': 1,\n",
       "  'split': [1, 2.0],\n",
       "  'n_samples': 1827,\n",
       "  'gain': 398.9725847695497,\n",
       "  'sl': {'y_pred': 1,\n",
       "   'y_prob': 44.7456,\n",
       "   'level': 2,\n",
       "   'split': [0, 1.0],\n",
       "   'n_samples': 623,\n",
       "   'gain': 1411.9241805181791,\n",
       "   'sl': {'y_pred': 1,\n",
       "    'y_prob': 83.4010152284264,\n",
       "    'level': 3,\n",
       "    'split': -1,\n",
       "    'n_samples': 195,\n",
       "    'gain': 222.06986607994804},\n",
       "   'sr': {'y_pred': 1,\n",
       "    'y_prob': 26.830232558139535,\n",
       "    'level': 3,\n",
       "    'split': -1,\n",
       "    'n_samples': 428,\n",
       "    'gain': 212.90785662379744}},\n",
       "  'sr': {'y_pred': 1,\n",
       "   'y_prob': 15.068822553897181,\n",
       "   'level': 2,\n",
       "   'split': [0, 1.0],\n",
       "   'n_samples': 1204,\n",
       "   'gain': 79.47710603149108,\n",
       "   'sl': {'y_pred': 1,\n",
       "    'y_prob': 24.04568527918782,\n",
       "    'level': 3,\n",
       "    'split': -1,\n",
       "    'n_samples': 392,\n",
       "    'gain': 558.4530173001542},\n",
       "   'sr': {'y_pred': 1,\n",
       "    'y_prob': 10.687960687960688,\n",
       "    'level': 3,\n",
       "    'split': -1,\n",
       "    'n_samples': 812,\n",
       "    'gain': 121.5868651190664}}},\n",
       " 'sr': {'y_pred': 1,\n",
       "  'y_prob': 244.47988295537672,\n",
       "  'level': 1,\n",
       "  'split': [1, 21.0],\n",
       "  'n_samples': 5466,\n",
       "  'gain': 5208.160164181376,\n",
       "  'sl': {'y_pred': 1,\n",
       "   'y_prob': 267.2884108867428,\n",
       "   'level': 2,\n",
       "   'split': [1, 16.0],\n",
       "   'n_samples': 4554,\n",
       "   'gain': 7108.973048845743,\n",
       "   'sl': {'y_pred': 1,\n",
       "    'y_prob': 224.70321298443193,\n",
       "    'level': 3,\n",
       "    'split': -1,\n",
       "    'n_samples': 3017,\n",
       "    'gain': 5264.09873750218},\n",
       "   'sr': {'y_pred': 1,\n",
       "    'y_prob': 350.4795321637427,\n",
       "    'level': 3,\n",
       "    'split': -1,\n",
       "    'n_samples': 1537,\n",
       "    'gain': 8736.541300527286}},\n",
       "  'sr': {'y_pred': 1,\n",
       "   'y_prob': 130.2527352297593,\n",
       "   'level': 2,\n",
       "   'split': [1, 22.0],\n",
       "   'n_samples': 912,\n",
       "   'gain': 1931.6254212291751,\n",
       "   'sl': {'y_pred': 1,\n",
       "    'y_prob': 173.55921052631578,\n",
       "    'level': 3,\n",
       "    'split': -1,\n",
       "    'n_samples': 302,\n",
       "    'gain': 646.6545109869039},\n",
       "   'sr': {'y_pred': 1,\n",
       "    'y_prob': 108.31699346405229,\n",
       "    'level': 3,\n",
       "    'split': -1,\n",
       "    'n_samples': 610,\n",
       "    'gain': 729.3154932378056}}}}"
      ]
     },
     "execution_count": 10,
     "metadata": {},
     "output_type": "execute_result"
    }
   ],
   "source": [
    "# Celda 4\n",
    "def gini(y):\n",
    "    if y.shape[0] == 0:\n",
    "        return 0\n",
    "    else:\n",
    "        return 1 - (y.mean()**2 + (1 - y.mean())**2)\n",
    "    \n",
    "def gini_impurity(X_col, y, split):\n",
    "    \n",
    "    filter_l = X_col < split\n",
    "    y_l = y.loc[filter_l]\n",
    "    y_r = y.loc[~filter_l]\n",
    "    \n",
    "    n_l = y_l.shape[0]\n",
    "    n_r = y_r.shape[0]\n",
    "    \n",
    "    gini_y = gini(y)\n",
    "    gini_l = gini(y_l)\n",
    "    gini_r = gini(y_r)\n",
    "    \n",
    "    gini_impurity_ = gini_y - (n_l / (n_l + n_r) * gini_l + n_r / (n_l + n_r) * gini_r)\n",
    "    \n",
    "    return gini_impurity_\n",
    "\n",
    "def best_split(X, y, num_pct=10):\n",
    "    \n",
    "    features = range(X.shape[1])\n",
    "    \n",
    "    best_split = [0, 0, 0]  # j, split, gain\n",
    "    \n",
    "    # Para todas las varibles \n",
    "    for j in features:\n",
    "        \n",
    "        splits = np.percentile(X.iloc[:, j], np.arange(0, 100, 100.0 / (num_pct+1)).tolist())\n",
    "        splits = np.unique(splits)[1:]\n",
    "        \n",
    "        # Para cada partición\n",
    "        for split in splits:\n",
    "            gain = gini_impurity(X.iloc[:, j], y, split)\n",
    "                        \n",
    "            if gain > best_split[2]:\n",
    "                best_split = [j, split, gain]\n",
    "    \n",
    "    return best_split\n",
    "\n",
    "def tree_grow(X, y, level=0, min_gain=0.001, max_depth=None, num_pct=10):\n",
    "    \n",
    "    # Si solo es una observación\n",
    "    if X.shape[0] == 1:\n",
    "        tree = dict(y_pred=y.iloc[:1].values[0], y_prob=0.5, level=level, split=-1, n_samples=1, gain=0)\n",
    "        return tree\n",
    "    \n",
    "    # Calcular la mejor división\n",
    "    j, split, gain = best_split(X, y, num_pct)\n",
    "    \n",
    "    # Guardar el árbol y estimar la predicción\n",
    "    y_pred = int(y.mean() >= 0.5) \n",
    "    y_prob = (y.sum() + 1.0) / (y.shape[0] + 2.0)  # Corrección Laplace \n",
    "    \n",
    "    tree = dict(y_pred=y_pred, y_prob=y_prob, level=level, split=-1, n_samples=X.shape[0], gain=gain)\n",
    "    # Revisar el criterio de parada \n",
    "    if gain < min_gain:\n",
    "        return tree\n",
    "    if max_depth is not None:\n",
    "        if level >= max_depth:\n",
    "            return tree   \n",
    "    \n",
    "    # Continuar creando la partición\n",
    "    filter_l = X.iloc[:, j] < split\n",
    "    X_l, y_l = X.loc[filter_l], y.loc[filter_l]\n",
    "    X_r, y_r = X.loc[~filter_l], y.loc[~filter_l]\n",
    "    tree['split'] = [j, split]\n",
    "\n",
    "    # Siguiente iteración para cada partición\n",
    "    \n",
    "    tree['sl'] = tree_grow(X_l, y_l, level + 1, min_gain=min_gain, max_depth=max_depth, num_pct=num_pct)\n",
    "    tree['sr'] = tree_grow(X_r, y_r, level + 1, min_gain=min_gain, max_depth=max_depth, num_pct=num_pct)\n",
    "    \n",
    "    return tree\n",
    "\n",
    "tree = tree_grow(XTrain, yTrain, level=0, min_gain=0.001, max_depth=3, num_pct=6)\n",
    "tree"
   ]
  },
  {
   "cell_type": "markdown",
   "metadata": {},
   "source": [
    "### Punto 5 - Árbol de decisión con librería\n",
    "En la celda 5 entrene un árbol de decisiones con la **librería sklearn**, usando las variables predictoras \"hour\" y \"workingday\" y calibre los parámetros que considere conveniente para obtener un mejor desempeño. Comente el desempeño del modelo con alguna métrica de desempeño de modelos de clasificación y compare desempeño con el modelo del punto 3."
   ]
  },
  {
   "cell_type": "code",
   "execution_count": 11,
   "metadata": {},
   "outputs": [],
   "source": [
    "# Celda 5\n",
    "max_depth_range = range(1, 20)\n",
    "\n",
    "# Valores del RMSE para cada nivel de profundidad\n",
    "accuracy_scores = []\n",
    "\n",
    "for depth in max_depth_range:\n",
    "    clf = DecisionTreeClassifier(max_depth=depth, random_state=1)\n",
    "    accuracy_scores.append(cross_val_score(clf, XTrain, yTrain, cv=10, scoring='accuracy').mean())"
   ]
  },
  {
   "cell_type": "code",
   "execution_count": 12,
   "metadata": {},
   "outputs": [
    {
     "data": {
      "text/plain": [
       "(0.021802431553826787, 9)"
      ]
     },
     "execution_count": 12,
     "metadata": {},
     "output_type": "execute_result"
    }
   ],
   "source": [
    "# Mejor métrica de RMSE dentro de los niveles de profundidadad generados\n",
    "\n",
    "sorted(zip(accuracy_scores, max_depth_range))[::-1][0]"
   ]
  },
  {
   "cell_type": "markdown",
   "metadata": {},
   "source": [
    "Comparando las metricas de desempeño (RMSE) tanto de la Regresión Lineal y el Arbol de Decisión, podemos concluir que el Arbol tiene un mejor ajuste que la Regresión Lineal."
   ]
  },
  {
   "cell_type": "markdown",
   "metadata": {},
   "source": [
    "## Parte B - Métodos de ensamblajes\n",
    "En esta parte del taller se usará el conjunto de datos de Popularidad de Noticias Online. El objetivo es predecir la cantidad de reacciones en redes sociales (popularidad) de la notica. Para más detalles puede visitar el sigueinte enlace: [datos](https://archive.ics.uci.edu/ml/datasets/online+news+popularity)."
   ]
  },
  {
   "cell_type": "markdown",
   "metadata": {},
   "source": [
    "### Datos popularidad de noticias"
   ]
  },
  {
   "cell_type": "code",
   "execution_count": 13,
   "metadata": {},
   "outputs": [
    {
     "data": {
      "text/html": [
       "<div>\n",
       "<style scoped>\n",
       "    .dataframe tbody tr th:only-of-type {\n",
       "        vertical-align: middle;\n",
       "    }\n",
       "\n",
       "    .dataframe tbody tr th {\n",
       "        vertical-align: top;\n",
       "    }\n",
       "\n",
       "    .dataframe thead th {\n",
       "        text-align: right;\n",
       "    }\n",
       "</style>\n",
       "<table border=\"1\" class=\"dataframe\">\n",
       "  <thead>\n",
       "    <tr style=\"text-align: right;\">\n",
       "      <th></th>\n",
       "      <th>url</th>\n",
       "      <th>timedelta</th>\n",
       "      <th>n_tokens_title</th>\n",
       "      <th>n_tokens_content</th>\n",
       "      <th>n_unique_tokens</th>\n",
       "      <th>n_non_stop_words</th>\n",
       "      <th>n_non_stop_unique_tokens</th>\n",
       "      <th>num_hrefs</th>\n",
       "      <th>num_self_hrefs</th>\n",
       "      <th>num_imgs</th>\n",
       "      <th>...</th>\n",
       "      <th>min_positive_polarity</th>\n",
       "      <th>max_positive_polarity</th>\n",
       "      <th>avg_negative_polarity</th>\n",
       "      <th>min_negative_polarity</th>\n",
       "      <th>max_negative_polarity</th>\n",
       "      <th>title_subjectivity</th>\n",
       "      <th>title_sentiment_polarity</th>\n",
       "      <th>abs_title_subjectivity</th>\n",
       "      <th>abs_title_sentiment_polarity</th>\n",
       "      <th>Popular</th>\n",
       "    </tr>\n",
       "  </thead>\n",
       "  <tbody>\n",
       "    <tr>\n",
       "      <th>0</th>\n",
       "      <td>http://mashable.com/2014/12/10/cia-torture-rep...</td>\n",
       "      <td>28.0</td>\n",
       "      <td>9.0</td>\n",
       "      <td>188.0</td>\n",
       "      <td>0.732620</td>\n",
       "      <td>1.0</td>\n",
       "      <td>0.844262</td>\n",
       "      <td>5.0</td>\n",
       "      <td>1.0</td>\n",
       "      <td>1.0</td>\n",
       "      <td>...</td>\n",
       "      <td>0.200000</td>\n",
       "      <td>0.80</td>\n",
       "      <td>-0.487500</td>\n",
       "      <td>-0.60</td>\n",
       "      <td>-0.250000</td>\n",
       "      <td>0.9</td>\n",
       "      <td>0.8</td>\n",
       "      <td>0.4</td>\n",
       "      <td>0.8</td>\n",
       "      <td>1</td>\n",
       "    </tr>\n",
       "    <tr>\n",
       "      <th>1</th>\n",
       "      <td>http://mashable.com/2013/10/18/bitlock-kicksta...</td>\n",
       "      <td>447.0</td>\n",
       "      <td>7.0</td>\n",
       "      <td>297.0</td>\n",
       "      <td>0.653199</td>\n",
       "      <td>1.0</td>\n",
       "      <td>0.815789</td>\n",
       "      <td>9.0</td>\n",
       "      <td>4.0</td>\n",
       "      <td>1.0</td>\n",
       "      <td>...</td>\n",
       "      <td>0.160000</td>\n",
       "      <td>0.50</td>\n",
       "      <td>-0.135340</td>\n",
       "      <td>-0.40</td>\n",
       "      <td>-0.050000</td>\n",
       "      <td>0.1</td>\n",
       "      <td>-0.1</td>\n",
       "      <td>0.4</td>\n",
       "      <td>0.1</td>\n",
       "      <td>0</td>\n",
       "    </tr>\n",
       "    <tr>\n",
       "      <th>2</th>\n",
       "      <td>http://mashable.com/2013/07/24/google-glass-po...</td>\n",
       "      <td>533.0</td>\n",
       "      <td>11.0</td>\n",
       "      <td>181.0</td>\n",
       "      <td>0.660377</td>\n",
       "      <td>1.0</td>\n",
       "      <td>0.775701</td>\n",
       "      <td>4.0</td>\n",
       "      <td>3.0</td>\n",
       "      <td>1.0</td>\n",
       "      <td>...</td>\n",
       "      <td>0.136364</td>\n",
       "      <td>1.00</td>\n",
       "      <td>0.000000</td>\n",
       "      <td>0.00</td>\n",
       "      <td>0.000000</td>\n",
       "      <td>0.3</td>\n",
       "      <td>1.0</td>\n",
       "      <td>0.2</td>\n",
       "      <td>1.0</td>\n",
       "      <td>0</td>\n",
       "    </tr>\n",
       "    <tr>\n",
       "      <th>3</th>\n",
       "      <td>http://mashable.com/2013/11/21/these-are-the-m...</td>\n",
       "      <td>413.0</td>\n",
       "      <td>12.0</td>\n",
       "      <td>781.0</td>\n",
       "      <td>0.497409</td>\n",
       "      <td>1.0</td>\n",
       "      <td>0.677350</td>\n",
       "      <td>10.0</td>\n",
       "      <td>3.0</td>\n",
       "      <td>1.0</td>\n",
       "      <td>...</td>\n",
       "      <td>0.100000</td>\n",
       "      <td>1.00</td>\n",
       "      <td>-0.195701</td>\n",
       "      <td>-0.40</td>\n",
       "      <td>-0.071429</td>\n",
       "      <td>0.0</td>\n",
       "      <td>0.0</td>\n",
       "      <td>0.5</td>\n",
       "      <td>0.0</td>\n",
       "      <td>0</td>\n",
       "    </tr>\n",
       "    <tr>\n",
       "      <th>4</th>\n",
       "      <td>http://mashable.com/2014/02/11/parking-ticket-...</td>\n",
       "      <td>331.0</td>\n",
       "      <td>8.0</td>\n",
       "      <td>177.0</td>\n",
       "      <td>0.685714</td>\n",
       "      <td>1.0</td>\n",
       "      <td>0.830357</td>\n",
       "      <td>3.0</td>\n",
       "      <td>2.0</td>\n",
       "      <td>1.0</td>\n",
       "      <td>...</td>\n",
       "      <td>0.100000</td>\n",
       "      <td>0.55</td>\n",
       "      <td>-0.175000</td>\n",
       "      <td>-0.25</td>\n",
       "      <td>-0.100000</td>\n",
       "      <td>0.0</td>\n",
       "      <td>0.0</td>\n",
       "      <td>0.5</td>\n",
       "      <td>0.0</td>\n",
       "      <td>0</td>\n",
       "    </tr>\n",
       "  </tbody>\n",
       "</table>\n",
       "<p>5 rows × 61 columns</p>\n",
       "</div>"
      ],
      "text/plain": [
       "                                                 url  timedelta  \\\n",
       "0  http://mashable.com/2014/12/10/cia-torture-rep...       28.0   \n",
       "1  http://mashable.com/2013/10/18/bitlock-kicksta...      447.0   \n",
       "2  http://mashable.com/2013/07/24/google-glass-po...      533.0   \n",
       "3  http://mashable.com/2013/11/21/these-are-the-m...      413.0   \n",
       "4  http://mashable.com/2014/02/11/parking-ticket-...      331.0   \n",
       "\n",
       "   n_tokens_title  n_tokens_content  n_unique_tokens  n_non_stop_words  \\\n",
       "0             9.0             188.0         0.732620               1.0   \n",
       "1             7.0             297.0         0.653199               1.0   \n",
       "2            11.0             181.0         0.660377               1.0   \n",
       "3            12.0             781.0         0.497409               1.0   \n",
       "4             8.0             177.0         0.685714               1.0   \n",
       "\n",
       "   n_non_stop_unique_tokens  num_hrefs  num_self_hrefs  num_imgs  ...  \\\n",
       "0                  0.844262        5.0             1.0       1.0  ...   \n",
       "1                  0.815789        9.0             4.0       1.0  ...   \n",
       "2                  0.775701        4.0             3.0       1.0  ...   \n",
       "3                  0.677350       10.0             3.0       1.0  ...   \n",
       "4                  0.830357        3.0             2.0       1.0  ...   \n",
       "\n",
       "   min_positive_polarity  max_positive_polarity  avg_negative_polarity  \\\n",
       "0               0.200000                   0.80              -0.487500   \n",
       "1               0.160000                   0.50              -0.135340   \n",
       "2               0.136364                   1.00               0.000000   \n",
       "3               0.100000                   1.00              -0.195701   \n",
       "4               0.100000                   0.55              -0.175000   \n",
       "\n",
       "   min_negative_polarity  max_negative_polarity  title_subjectivity  \\\n",
       "0                  -0.60              -0.250000                 0.9   \n",
       "1                  -0.40              -0.050000                 0.1   \n",
       "2                   0.00               0.000000                 0.3   \n",
       "3                  -0.40              -0.071429                 0.0   \n",
       "4                  -0.25              -0.100000                 0.0   \n",
       "\n",
       "   title_sentiment_polarity  abs_title_subjectivity  \\\n",
       "0                       0.8                     0.4   \n",
       "1                      -0.1                     0.4   \n",
       "2                       1.0                     0.2   \n",
       "3                       0.0                     0.5   \n",
       "4                       0.0                     0.5   \n",
       "\n",
       "   abs_title_sentiment_polarity  Popular  \n",
       "0                           0.8        1  \n",
       "1                           0.1        0  \n",
       "2                           1.0        0  \n",
       "3                           0.0        0  \n",
       "4                           0.0        0  \n",
       "\n",
       "[5 rows x 61 columns]"
      ]
     },
     "execution_count": 13,
     "metadata": {},
     "output_type": "execute_result"
    }
   ],
   "source": [
    "# Lectura de la información de archivo .csv\n",
    "df = pd.read_csv('https://raw.githubusercontent.com/albahnsen/MIAD_ML_and_NLP/main/datasets/mashable.csv', index_col=0)\n",
    "df.head()"
   ]
  },
  {
   "cell_type": "code",
   "execution_count": 14,
   "metadata": {},
   "outputs": [
    {
     "data": {
      "text/plain": [
       "0.5"
      ]
     },
     "execution_count": 14,
     "metadata": {},
     "output_type": "execute_result"
    }
   ],
   "source": [
    "# Definición variable de interes y variables predictoras\n",
    "X = df.drop(['url', 'Popular'], axis=1)\n",
    "y = df['Popular']\n",
    "y.mean()"
   ]
  },
  {
   "cell_type": "code",
   "execution_count": 15,
   "metadata": {},
   "outputs": [],
   "source": [
    "# División de la muestra en set de entrenamiento y prueba\n",
    "from sklearn.model_selection import train_test_split\n",
    "XTrain, XTest, yTrain, yTest = train_test_split(X, y, random_state=1)"
   ]
  },
  {
   "cell_type": "markdown",
   "metadata": {},
   "source": [
    "### Punto 6 - Árbol de decisión y regresión logística\n",
    "En la celda 6 construya un árbol de decisión y una regresión logística. Para el árbol calibre al menos un parámetro y evalúe el desempeño de cada modelo usando las métricas de Accuracy y F1-Score."
   ]
  },
  {
   "cell_type": "code",
   "execution_count": 16,
   "metadata": {},
   "outputs": [
    {
     "name": "stdout",
     "output_type": "stream",
     "text": [
      "Valores optimos Accuracy-Nivel\n",
      "(0.6308888888888888, 2)\n",
      "Profundidad del árbol: 2\n",
      "Número de nodos terminales: 4\n",
      "\n",
      "F1 Score:  0.6448598130841121\n",
      "Accuracy: 0.6308888888888888\n"
     ]
    },
    {
     "data": {
      "image/png": "[encoded data removed]",
      "text/plain": [
       "<Figure size 864x360 with 1 Axes>"
      ]
     },
     "metadata": {
      "needs_background": "light"
     },
     "output_type": "display_data"
    }
   ],
   "source": [
    "# Celda 6\n",
    "max_depth_range = range(1, 20)\n",
    "\n",
    "# Valores del RMSE para cada nivel de profundidad\n",
    "accuracy_scores = []\n",
    "y_pred=[]\n",
    "\n",
    "for depth in max_depth_range:\n",
    "    clf = DecisionTreeClassifier(max_depth=depth, random_state=1)\n",
    "    accuracy_scores.append(cross_val_score(clf, XTrain, yTrain, cv=10, scoring='accuracy').mean())\n",
    "    \n",
    "print('Valores optimos Accuracy-Nivel')\n",
    "print(sorted(zip(accuracy_scores, max_depth_range))[::-1][0])\n",
    "\n",
    "score=sorted(zip(accuracy_scores, max_depth_range))[::-1][0]\n",
    "\n",
    "clf = DecisionTreeClassifier(max_depth=2, random_state=1)\n",
    "clf.fit(XTrain, yTrain)\n",
    "y_pred=clf.predict(XTest)\n",
    "    \n",
    "fig, ax = plt.subplots(figsize=(12, 5))\n",
    "\n",
    "print(f\"Profundidad del árbol: {clf.get_depth()}\")\n",
    "print(f\"Número de nodos terminales: {clf.get_n_leaves()}\")\n",
    "\n",
    "print()\n",
    "print('F1 Score: ',f1_score(yTest, y_pred))\n",
    "print('Accuracy:',score[0] )\n",
    "\n",
    "F1_ARL=f1_score(yTest, y_pred)\n",
    "AC_ARL=score[0]\n",
    "plot = plot_tree(\n",
    "            decision_tree = clf,\n",
    "            feature_names = XTrain.columns,\n",
    "            class_names   = 'Popular',\n",
    "            filled        = True,\n",
    "            impurity      = False,\n",
    "            fontsize      = 10,\n",
    "            precision     = 2,\n",
    "            ax            = ax\n",
    "       )"
   ]
  },
  {
   "cell_type": "code",
   "execution_count": 17,
   "metadata": {},
   "outputs": [
    {
     "name": "stdout",
     "output_type": "stream",
     "text": [
      "Error cuadrático medio:  0.386\n",
      "Raiz error cuadrático medio:  0.6212889826803627\n",
      "Coeficiente de determinación R^2: 0.614\n",
      "\n",
      "F1 Score:  0.6106254203093476\n",
      "Accuracy:  0.614\n"
     ]
    }
   ],
   "source": [
    "modelo = LogisticRegression()\n",
    "modelo.fit(X = XTrain , y = yTrain)\n",
    "\n",
    "yPred = modelo.predict(XTest)\n",
    "\n",
    "print('Error cuadrático medio: ',mean_squared_error(yTest, yPred))\n",
    "print('Raiz error cuadrático medio: ',math.sqrt(mean_squared_error(yTest, yPred)))\n",
    "print(\"Coeficiente de determinación R^2:\", modelo.score(XTest, yTest))\n",
    "print()\n",
    "print('F1 Score: ',f1_score(yTest, yPred))\n",
    "print('Accuracy: ',metrics.accuracy_score(yPred, yTest))\n",
    "\n",
    "F1_RLG=f1_score(yTest, y_pred)\n",
    "AC_RLG=metrics.accuracy_score(yPred, yTest)"
   ]
  },
  {
   "cell_type": "markdown",
   "metadata": {},
   "source": [
    "De acuerdo a las metricas de desempeño, el modelo de Arbol, tiene una ligera mejora en el ajuste, comparado con el modelo de Regresión Logistica"
   ]
  },
  {
   "cell_type": "markdown",
   "metadata": {},
   "source": [
    "### Punto 7 - Votación Mayoritaria\n",
    "En la celda 7 elabore un esamble con la metodología de **Votación mayoritaria** compuesto por 300 muestras bagged para cada uno de los siguientes escenarios:\n",
    "\n",
    "-100 árboles de decisión donde max_depth = None\\\n",
    "-100 árboles de decisión donde max_depth = 2\\\n",
    "-100 regresiones logísticas\n",
    "\n",
    "Evalúe los modelos utilizando las métricas de Accuracy y F1-Score."
   ]
  },
  {
   "cell_type": "code",
   "execution_count": 18,
   "metadata": {},
   "outputs": [],
   "source": [
    "# Celda 7\n",
    "# Creación de las 300 muestras\n",
    "n_estimators = 300\n",
    "np.random.seed(123)\n",
    "\n",
    "n_samples = XTrain.shape[0]\n",
    "samples = [np.random.choice(a=n_samples, size=n_samples, replace=True) for _ in range(n_estimators)]"
   ]
  },
  {
   "cell_type": "markdown",
   "metadata": {},
   "source": [
    "### 1. Árboles de decisión donde max_depth = None"
   ]
  },
  {
   "cell_type": "code",
   "execution_count": 19,
   "metadata": {},
   "outputs": [
    {
     "name": "stdout",
     "output_type": "stream",
     "text": [
      "F1:  0.6618892508143323\n",
      "Accuracy:  0.8195888888888889\n"
     ]
    }
   ],
   "source": [
    "# Entrenamiento de 100 modelos de Arbol con las 100 muestras boostrap\n",
    "\n",
    "n_arboles=100\n",
    "np.random.seed(123) \n",
    "seeds = np.random.randint(1, 10000, size=n_arboles)\n",
    "accuracy_Arbol1 = []\n",
    "\n",
    "trees = {}\n",
    "for i in range(n_arboles):\n",
    "    trees[i] = DecisionTreeClassifier(max_features=\"sqrt\", max_depth=None, random_state=seeds[i])\n",
    "    trees[i].fit(XTrain.iloc[samples[i]], yTrain.iloc[samples[i]])\n",
    "    accuracy_Arbol1.append(cross_val_score(trees[i], XTrain.iloc[samples[i]], yTrain.iloc[samples[i]], cv=10, scoring='accuracy').mean())\n",
    "    \n",
    "# Predicción para los datos del set de test con cada modelo\n",
    "\n",
    "y_pred_df = pd.DataFrame(index=XTest.index, columns=list(range(n_arboles)))\n",
    "for i in range(n_arboles):\n",
    "    y_pred_df.iloc[:, i] = trees[i].predict(XTest)\n",
    "    \n",
    "# Votación mayoritaria\n",
    "y_pred = (y_pred_df.sum(axis=1) >= (n_arboles / 2)).astype(np.int)\n",
    "\n",
    "\n",
    "# Desempeño al hacer votación mayoritaria\n",
    "F1_Arbol1=metrics.f1_score(y_pred, yTest)\n",
    "\n",
    "print('F1: ' ,F1_Arbol1)\n",
    "print('Accuracy: ',sum(accuracy_Arbol1)/len(accuracy_Arbol1))\n",
    "\n",
    "F1_VM_A1=F1_Arbol1\n",
    "AC_VM_A1=sum(accuracy_Arbol1)/len(accuracy_Arbol1)\n"
   ]
  },
  {
   "cell_type": "markdown",
   "metadata": {},
   "source": [
    "### 2. Árboles de decisión donde max_depth = 2"
   ]
  },
  {
   "cell_type": "code",
   "execution_count": 20,
   "metadata": {},
   "outputs": [
    {
     "name": "stdout",
     "output_type": "stream",
     "text": [
      "F1:  0.6573333333333333\n",
      "Accuracy:  0.5978444444444444\n"
     ]
    }
   ],
   "source": [
    "# Entrenamiento de 100 modelos de Arbol con las 100 muestras boostrap\n",
    "\n",
    "n_arboles=100\n",
    "np.random.seed(123) \n",
    "seeds = np.random.randint(1, 10000, size=n_arboles)\n",
    "accuracy_Arbol2 = []\n",
    "\n",
    "trees = {}\n",
    "for i in range(n_arboles):\n",
    "    trees[i] = DecisionTreeClassifier(max_features=\"sqrt\", max_depth=2, random_state=seeds[i])\n",
    "    trees[i].fit(XTrain.iloc[samples[i]], yTrain.iloc[samples[i]])\n",
    "    accuracy_Arbol2.append(cross_val_score(trees[i], XTrain.iloc[samples[i]], yTrain.iloc[samples[i]], cv=10, scoring='accuracy').mean())\n",
    "    \n",
    "# Predicción para los datos del set de test con cada modelo\n",
    "\n",
    "y_pred_df = pd.DataFrame(index=XTest.index, columns=list(range(n_arboles)))\n",
    "for i in range(n_arboles):\n",
    "    y_pred_df.iloc[:, i] = trees[i].predict(XTest)\n",
    "    \n",
    "# Votación mayoritaria\n",
    "y_pred = (y_pred_df.sum(axis=1) >= (n_arboles / 2)).astype(np.int)\n",
    "\n",
    "# Desempeño al hacer votación mayoritaria\n",
    "F1_Arbol2=metrics.f1_score(y_pred, yTest)\n",
    "\n",
    "print('F1: ', F1_Arbol2)\n",
    "print('Accuracy: ',sum(accuracy_Arbol2)/len(accuracy_Arbol2))\n",
    "\n",
    "\n",
    "F1_VM_A2=F1_Arbol2\n",
    "AC_VM_A2=sum(accuracy_Arbol2)/len(accuracy_Arbol2)\n"
   ]
  },
  {
   "cell_type": "markdown",
   "metadata": {},
   "source": [
    "### 3. Regresiones logísticas"
   ]
  },
  {
   "cell_type": "code",
   "execution_count": 21,
   "metadata": {},
   "outputs": [
    {
     "name": "stdout",
     "output_type": "stream",
     "text": [
      "F1:  0.6573333333333333\n",
      "Accuracy:  0.5978444444444444\n"
     ]
    }
   ],
   "source": [
    "n_arboles=100\n",
    "np.random.seed(123) \n",
    "seeds = np.random.randint(1, 10000, size=n_arboles)\n",
    "accuracy_Reglog= []\n",
    "\n",
    "Reglog = {}\n",
    "for i in range(n_arboles):\n",
    "    Reglog[i] = LogisticRegression()\n",
    "    Reglog[i].fit(XTrain.iloc[samples[200+i]], yTrain.iloc[samples[i]])\n",
    "    accuracy_Reglog.append(cross_val_score(trees[i], XTrain.iloc[samples[i]], yTrain.iloc[samples[i]], cv=10, scoring='accuracy').mean())\n",
    "    \n",
    "# Predicción para los datos del set de test con cada modelo\n",
    "\n",
    "y_pred_df = pd.DataFrame(index=XTest.index, columns=list(range(n_arboles)))\n",
    "for i in range(n_arboles):\n",
    "    y_pred_df.iloc[:, i] = trees[i].predict(XTest)\n",
    "    \n",
    "# Votación mayoritaria\n",
    "y_pred = (y_pred_df.sum(axis=1) >= (n_arboles / 2)).astype(np.int)\n",
    "\n",
    "# Desempeño al hacer votación mayoritaria\n",
    "F1_Reglog=metrics.f1_score(y_pred, yTest)\n",
    "\n",
    "print('F1: ',F1_Reglog)\n",
    "print('Accuracy: ',sum(accuracy_Reglog)/len(accuracy_Reglog))\n",
    "\n",
    "\n",
    "F1_VM_RL=F1_Reglog\n",
    "AC_VM_RL=sum(accuracy_Reglog)/len(accuracy_Reglog)"
   ]
  },
  {
   "cell_type": "markdown",
   "metadata": {},
   "source": [
    "### Punto 8 - Votación Ponderada\n",
    "En la celda 8 elabore un ensamble con la metodología de **Votación ponderada** compuesto por 300 muestras bagged para los mismos tres escenarios del punto 7. Evalúe los modelos utilizando las métricas de Accuracy y F1-Score"
   ]
  },
  {
   "cell_type": "markdown",
   "metadata": {},
   "source": [
    "### 1. Árboles de decisión donde max_depth = None"
   ]
  },
  {
   "cell_type": "code",
   "execution_count": 22,
   "metadata": {},
   "outputs": [
    {
     "name": "stdout",
     "output_type": "stream",
     "text": [
      "F1:  0.659225213394616\n",
      "Accuracy:  0.654\n"
     ]
    },
    {
     "data": {
      "image/png": "[encoded data removed]",
      "text/plain": [
       "<Figure size 432x288 with 1 Axes>"
      ]
     },
     "metadata": {},
     "output_type": "display_data"
    }
   ],
   "source": [
    "# Celda 8\n",
    "samples_oob = []\n",
    "# Obtención de las observaciones fuera de la bolsa \"out-of-bag\" para cada muestra\n",
    "for sample in samples:\n",
    "    samples_oob.append(sorted(set(range(n_samples)) - set(sample)))\n",
    "\n",
    "# Estimación de los errores OOB para cada clasificador\n",
    "n_estimators=100\n",
    "errors = np.zeros(n_estimators)\n",
    "\n",
    "trees = {}\n",
    "\n",
    "for i in range(n_estimators):\n",
    "    trees[i] = DecisionTreeClassifier(max_features=\"sqrt\", max_depth=None, random_state=seeds[i])\n",
    "    trees[i].fit(XTrain.iloc[samples[i]], yTrain.iloc[samples[i]])\n",
    "    y_pred_ = trees[i].predict(XTrain.iloc[samples_oob[i]])\n",
    "    errors[i] = 1 - metrics.accuracy_score(yTrain.iloc[samples_oob[i]], y_pred_)\n",
    "\n",
    "# Predicción para los datos del set de test con cada modelo\n",
    "y_pred_df = pd.DataFrame(index=XTest.index, columns=list(range(n_estimators)))\n",
    "for i in range(n_estimators):\n",
    "    y_pred_df.iloc[:, i] = trees[i].predict(XTest)\n",
    "\n",
    "# Visualización de OOB para cada árbol\n",
    "%matplotlib inline\n",
    "import matplotlib.pyplot as plt\n",
    "plt.style.use('fivethirtyeight')\n",
    "\n",
    "plt.scatter(range(n_estimators), errors)\n",
    "plt.xlim([0, n_estimators])\n",
    "plt.title('OOB error of each tree')\n",
    "\n",
    "# Obtención de los pesos alpha de cada modelo de acuerdo al error OOB\n",
    "alpha = (1 - errors) / (1 - errors).sum()\n",
    "\n",
    "# Ponderación de las predicciones con los pesos alpha\n",
    "weighted_sum_1 = ((y_pred_df) * alpha).sum(axis=1)\n",
    "\n",
    "# Desempeño al hacer votación ponderada\n",
    "y_pred = (weighted_sum_1 >= 0.5).astype(np.int)\n",
    "print('F1: ',metrics.f1_score(y_pred, yTest))\n",
    "print('Accuracy: ',metrics.accuracy_score(y_pred, yTest))\n",
    "\n",
    "F1_VP_A1=F1_Arbol1\n",
    "AC_VP_A1=sum(accuracy_Arbol1)/len(accuracy_Arbol1)"
   ]
  },
  {
   "cell_type": "markdown",
   "metadata": {},
   "source": [
    "### 2. Árboles de decisión donde max_depth = 2"
   ]
  },
  {
   "cell_type": "code",
   "execution_count": 23,
   "metadata": {},
   "outputs": [
    {
     "name": "stdout",
     "output_type": "stream",
     "text": [
      "F1:  0.6541554959785523\n",
      "Accuracy:  0.656\n"
     ]
    },
    {
     "data": {
      "image/png": "[encoded data removed]",
      "text/plain": [
       "<Figure size 432x288 with 1 Axes>"
      ]
     },
     "metadata": {},
     "output_type": "display_data"
    }
   ],
   "source": [
    "# Celda 8\n",
    "samples_oob = []\n",
    "# Obtención de las observaciones fuera de la bolsa \"out-of-bag\" para cada muestra\n",
    "for sample in samples:\n",
    "    samples_oob.append(sorted(set(range(n_samples)) - set(sample)))\n",
    "\n",
    "# Estimación de los errores OOB para cada clasificador\n",
    "n_estimators=100\n",
    "errors = np.zeros(n_estimators)\n",
    "\n",
    "trees = {}\n",
    "\n",
    "for i in range(n_estimators):\n",
    "    trees[i] = DecisionTreeClassifier(max_features=\"sqrt\", max_depth=2, random_state=seeds[i])\n",
    "    trees[i].fit(XTrain.iloc[samples[i]], yTrain.iloc[samples[i]])\n",
    "    y_pred_ = trees[i].predict(XTrain.iloc[samples_oob[i]])\n",
    "    errors[i] = 1 - metrics.accuracy_score(yTrain.iloc[samples_oob[i]], y_pred_)\n",
    "\n",
    "# Predicción para los datos del set de test con cada modelo\n",
    "y_pred_df = pd.DataFrame(index=XTest.index, columns=list(range(n_estimators)))\n",
    "for i in range(n_estimators):\n",
    "    y_pred_df.iloc[:, i] = trees[i].predict(XTest)\n",
    "\n",
    "# Visualización de OOB para cada árbol\n",
    "%matplotlib inline\n",
    "import matplotlib.pyplot as plt\n",
    "plt.style.use('fivethirtyeight')\n",
    "\n",
    "plt.scatter(range(n_estimators), errors)\n",
    "plt.xlim([0, n_estimators])\n",
    "plt.title('OOB error of each tree')\n",
    "\n",
    "# Obtención de los pesos alpha de cada modelo de acuerdo al error OOB\n",
    "alpha = (1 - errors) / (1 - errors).sum()\n",
    "\n",
    "# Ponderación de las predicciones con los pesos alpha\n",
    "weighted_sum_1 = ((y_pred_df) * alpha).sum(axis=1)\n",
    "\n",
    "# Desempeño al hacer votación ponderada\n",
    "y_pred = (weighted_sum_1 >= 0.5).astype(np.int)\n",
    "print('F1: ',metrics.f1_score(y_pred, yTest))\n",
    "print('Accuracy: ',metrics.accuracy_score(y_pred, yTest))\n",
    "\n",
    "F1_VP_A2=F1_Arbol2\n",
    "AC_VP_A2=sum(accuracy_Arbol2)/len(accuracy_Arbol2)"
   ]
  },
  {
   "cell_type": "markdown",
   "metadata": {},
   "source": [
    "### 3. Regresiones logísticas"
   ]
  },
  {
   "cell_type": "code",
   "execution_count": 24,
   "metadata": {},
   "outputs": [
    {
     "name": "stdout",
     "output_type": "stream",
     "text": [
      "F1:  0.6532258064516129\n",
      "Accuracy:  0.656\n"
     ]
    },
    {
     "data": {
      "image/png": "[encoded data removed]",
      "text/plain": [
       "<Figure size 432x288 with 1 Axes>"
      ]
     },
     "metadata": {},
     "output_type": "display_data"
    }
   ],
   "source": [
    "# Celda 8\n",
    "samples_oob = []\n",
    "# Obtención de las observaciones fuera de la bolsa \"out-of-bag\" para cada muestra\n",
    "for sample in samples:\n",
    "    samples_oob.append(sorted(set(range(n_samples)) - set(sample)))\n",
    "\n",
    "# Estimación de los errores OOB para cada clasificador\n",
    "n_estimators=100\n",
    "errors = np.zeros(n_estimators)\n",
    "\n",
    "Reglog = {}\n",
    "\n",
    "for i in range(n_estimators):\n",
    "    Reglog[i] = LogisticRegression()\n",
    "    Reglog[i].fit(XTrain.iloc[samples[i]], yTrain.iloc[samples[i]])\n",
    "    accuracy_Reglog.append(cross_val_score(trees[i], XTrain.iloc[samples[i]], yTrain.iloc[samples[i]], cv=10, scoring='accuracy').mean())\n",
    "\n",
    "    y_pred_ = Reglog[i].predict(XTrain.iloc[samples_oob[i]])\n",
    "    errors[i] = 1 - metrics.accuracy_score(yTrain.iloc[samples_oob[i]], y_pred_)\n",
    "\n",
    "# Predicción para los datos del set de test con cada modelo\n",
    "y_pred_df = pd.DataFrame(index=XTest.index, columns=list(range(n_estimators)))\n",
    "for i in range(n_estimators):\n",
    "    y_pred_df.iloc[:, i] = trees[i].predict(XTest)\n",
    "\n",
    "# Visualización de OOB para cada árbol\n",
    "%matplotlib inline\n",
    "import matplotlib.pyplot as plt\n",
    "plt.style.use('fivethirtyeight')\n",
    "\n",
    "plt.scatter(range(n_estimators), errors)\n",
    "plt.xlim([0, n_estimators])\n",
    "plt.title('OOB error of Reg Log')\n",
    "\n",
    "# Obtención de los pesos alpha de cada modelo de acuerdo al error OOB\n",
    "alpha = (1 - errors) / (1 - errors).sum()\n",
    "\n",
    "# Ponderación de las predicciones con los pesos alpha\n",
    "weighted_sum_1 = ((y_pred_df) * alpha).sum(axis=1)\n",
    "\n",
    "# Desempeño al hacer votación ponderada\n",
    "y_pred = (weighted_sum_1 >= 0.5).astype(np.int)\n",
    "print('F1: ',metrics.f1_score(y_pred, yTest))\n",
    "print('Accuracy: ',metrics.accuracy_score(y_pred, yTest))\n",
    "\n",
    "F1_VP_RL=F1_Reglog\n",
    "AC_VP_RL=sum(accuracy_Reglog)/len(accuracy_Reglog)"
   ]
  },
  {
   "cell_type": "markdown",
   "metadata": {},
   "source": [
    "### Punto 9 - Comparación y análisis de resultados\n",
    "En la celda 9 comente sobre los resultados obtenidos con las metodologías usadas en los puntos 7 y 8, compare los resultados y enuncie posibles ventajas o desventajas de cada una de ellas."
   ]
  },
  {
   "cell_type": "code",
   "execution_count": 25,
   "metadata": {},
   "outputs": [
    {
     "data": {
      "image/png": "[encoded data removed]",
      "text/plain": [
       "<Figure size 432x288 with 1 Axes>"
      ]
     },
     "metadata": {},
     "output_type": "display_data"
    }
   ],
   "source": [
    "# Celda 9\n",
    "\n",
    "fig = plt.figure()\n",
    "ax = fig.add_axes([0,0,1,1])\n",
    "ax.set_title(\"Comparación de métricas Arbol RL vs Regresión Log.\")\n",
    "ejeX = ['F1 ARBOL', 'F1 REG LOG','ACCU ARBOL', 'ACCU REG LOG']\n",
    "ejeY = [float(round(F1_ARL,4)),float(round(F1_RLG,4)),float(round(AC_ARL,4)),float(round(AC_RLG,4))]\n",
    "ax.bar(ejeX,ejeY)\n",
    "def addlabels(x,y,plotP):\n",
    "    for i in range(len(x)):\n",
    "        plotP.text(i,y[i],y[i])\n",
    "addlabels(ejeX,ejeY,plt)\n",
    "plt.show()"
   ]
  },
  {
   "cell_type": "code",
   "execution_count": 26,
   "metadata": {},
   "outputs": [
    {
     "data": {
      "image/png": "[encoded data removed]",
      "text/plain": [
       "<Figure size 432x288 with 1 Axes>"
      ]
     },
     "metadata": {},
     "output_type": "display_data"
    }
   ],
   "source": [
    "fig = plt.figure()\n",
    "ax = fig.add_axes([0,0,1,1])\n",
    "ax.set_title(\"Comparación de métricas Votación Mayoritaria.\")\n",
    "ejeX = ['F1 ARBOL None', 'F1 ARBOL D2','F1 REG LOG']\n",
    "ejeY = [float(round(F1_VM_A1,4)),float(round(F1_VM_A2,4)),float(round(F1_VM_RL,4))]\n",
    "ax.bar(ejeX,ejeY)\n",
    "def addlabels(x,y,plotP):\n",
    "    for i in range(len(x)):\n",
    "        plotP.text(i,y[i],y[i])\n",
    "addlabels(ejeX,ejeY,plt)\n",
    "plt.show()"
   ]
  },
  {
   "cell_type": "code",
   "execution_count": 27,
   "metadata": {},
   "outputs": [
    {
     "data": {
      "image/png": "[encoded data removed]",
      "text/plain": [
       "<Figure size 432x288 with 1 Axes>"
      ]
     },
     "metadata": {},
     "output_type": "display_data"
    }
   ],
   "source": [
    "fig = plt.figure()\n",
    "ax = fig.add_axes([0,0,1,1])\n",
    "ax.set_title(\"Comparación de métricas Votación Mayoritaria.\")\n",
    "ejeX = ['ACU ARBOL None', 'ACU ARBOL D2','ACU REG LOG']\n",
    "ejeY = [float(round(AC_VM_A1,4)),float(round(AC_VM_A2,4)),float(round(AC_VM_RL,4))]\n",
    "ax.bar(ejeX,ejeY)\n",
    "def addlabels(x,y,plotP):\n",
    "    for i in range(len(x)):\n",
    "        plotP.text(i,y[i],y[i])\n",
    "addlabels(ejeX,ejeY,plt)\n",
    "plt.show()"
   ]
  },
  {
   "cell_type": "code",
   "execution_count": 30,
   "metadata": {},
   "outputs": [
    {
     "data": {
      "image/png": "[encoded data removed]",
      "text/plain": [
       "<Figure size 432x288 with 1 Axes>"
      ]
     },
     "metadata": {},
     "output_type": "display_data"
    }
   ],
   "source": [
    "fig = plt.figure()\n",
    "ax = fig.add_axes([0,0,1,1])\n",
    "ax.set_title(\"Comparación de métricas Votación Ponderada.\")\n",
    "ejeX = ['F1 ARBOL None', 'F1 ARBOL D2','F1 REG LOG']\n",
    "ejeY = [float(round(F1_VP_A1,4)),float(round(F1_VP_A2,4)),float(round(F1_VP_RL,4))]\n",
    "ax.bar(ejeX,ejeY)\n",
    "def addlabels(x,y,plotP):\n",
    "    for i in range(len(x)):\n",
    "        plotP.text(i,y[i],y[i])\n",
    "addlabels(ejeX,ejeY,plt)\n",
    "plt.show()"
   ]
  },
  {
   "cell_type": "code",
   "execution_count": 29,
   "metadata": {},
   "outputs": [
    {
     "data": {
      "image/png": "[encoded data removed]",
      "text/plain": [
       "<Figure size 432x288 with 1 Axes>"
      ]
     },
     "metadata": {},
     "output_type": "display_data"
    }
   ],
   "source": [
    "fig = plt.figure()\n",
    "ax = fig.add_axes([0,0,1,1])\n",
    "ax.set_title(\"Comparación de métricas Votación Ponderada.\")\n",
    "ejeX = ['ACU ARBOL None', 'ACU ARBOL D2','ACU REG LOG']\n",
    "ejeY = [float(round(AC_VP_A1,4)),float(round(AC_VP_A2,4)),float(round(AC_VP_RL,4))]\n",
    "ax.bar(ejeX,ejeY)\n",
    "def addlabels(x,y,plotP):\n",
    "    for i in range(len(x)):\n",
    "        plotP.text(i,y[i],y[i])\n",
    "addlabels(ejeX,ejeY,plt)\n",
    "plt.show()"
   ]
  },
  {
   "cell_type": "markdown",
   "metadata": {},
   "source": [
    "#### De acuerdo a los resultados obtenidos, el modelo con mejore desempeño de acuerdo a la métrica de de desempeño de Accuracy, el Arbol de regresión con el parametro de 'max_depth=None' tanto en Votación Ponderada y Votación Mayoritaria."
   ]
  },
  {
   "cell_type": "code",
   "execution_count": null,
   "metadata": {},
   "outputs": [],
   "source": []
  }
 ],
 "metadata": {
  "kernelspec": {
   "display_name": "Python 3",
   "language": "python",
   "name": "python3"
  },
  "language_info": {
   "codemirror_mode": {
    "name": "ipython",
    "version": 3
   },
   "file_extension": ".py",
   "mimetype": "text/x-python",
   "name": "python",
   "nbconvert_exporter": "python",
   "pygments_lexer": "ipython3",
   "version": "3.8.8"
  }
 },
 "nbformat": 4,
 "nbformat_minor": 4
}
